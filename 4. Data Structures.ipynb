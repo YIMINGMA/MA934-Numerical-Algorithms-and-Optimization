{
 "cells": [
  {
   "cell_type": "markdown",
   "metadata": {
    "slideshow": {
     "slide_type": "slide"
    }
   },
   "source": [
    "# Data Types and Data Structures"
   ]
  },
  {
   "cell_type": "code",
   "execution_count": 1,
   "metadata": {},
   "outputs": [],
   "source": [
    "using Plots\n",
    "using LaTeXStrings\n",
    "using Revise\n",
    "pyplot()\n",
    "# Set default fonts for all plots\n",
    "fnt = Plots.font(\"DejaVu Sans\", 8.0)\n",
    "default(titlefont=fnt, guidefont=fnt, tickfont=fnt, legendfont=fnt)"
   ]
  },
  {
   "cell_type": "markdown",
   "metadata": {},
   "source": [
    "## 1. Data Types"
   ]
  },
  {
   "cell_type": "markdown",
   "metadata": {
    "slideshow": {
     "slide_type": "slide"
    }
   },
   "source": [
    "**A data type is an attribute of data that tells the compiler/interpreter how that data will be used.** For example, ```Float64``` and ```Int64``` are both 64-bit binary strings but are interpreted differently. \n",
    "\n",
    "**Primitive types: ```Int64``` etc, ```Float32``` etc, ```Bool```,  ```Char```.**\n",
    "\n",
    "**Composite types: derived from multiple primitive types: ```Array```, ```struct```.**\n",
    "\n",
    "Julia also provides some special types: ```Any```, ```Nothing```, ```Union```  - see the [documentation](https://docs.julialang.org/en/v1/base/base/#Special-Types) for others.\n"
   ]
  },
  {
   "cell_type": "markdown",
   "metadata": {},
   "source": [
    "### 1.1 Working with Types"
   ]
  },
  {
   "cell_type": "markdown",
   "metadata": {
    "cell_style": "split",
    "slideshow": {
     "slide_type": "slide"
    }
   },
   "source": [
    "Julia provides functions for type checking that can be very useful:\n",
    "\n",
    "- **```typeof(x)``` : returns the type of x**\n",
    "- **```isa(x, T)``` : checks if x has type T**"
   ]
  },
  {
   "cell_type": "code",
   "execution_count": 2,
   "metadata": {
    "cell_style": "split"
   },
   "outputs": [
    {
     "name": "stdout",
     "output_type": "stream",
     "text": [
      "(Int64, Float64)\n"
     ]
    }
   ],
   "source": [
    "n = Int64(10)\n",
    "x = Float64(10.0)\n",
    "println((typeof(n), typeof(x)))"
   ]
  },
  {
   "cell_type": "code",
   "execution_count": 3,
   "metadata": {
    "cell_style": "split"
   },
   "outputs": [
    {
     "name": "stdout",
     "output_type": "stream",
     "text": [
      "(false, true)\n"
     ]
    }
   ],
   "source": [
    "println((isa(x, Int64), isa(x,Float64)))"
   ]
  },
  {
   "cell_type": "markdown",
   "metadata": {
    "cell_style": "split"
   },
   "source": [
    "*Note ```DataType``` is itself a type*:"
   ]
  },
  {
   "cell_type": "code",
   "execution_count": 4,
   "metadata": {
    "cell_style": "split"
   },
   "outputs": [
    {
     "data": {
      "text/plain": [
       "DataType"
      ]
     },
     "execution_count": 4,
     "metadata": {},
     "output_type": "execute_result"
    }
   ],
   "source": [
    "typeof(typeof(x))"
   ]
  },
  {
   "cell_type": "markdown",
   "metadata": {},
   "source": [
    "### 1.2 The ```Nothing``` Special Type"
   ]
  },
  {
   "cell_type": "markdown",
   "metadata": {
    "slideshow": {
     "slide_type": "slide"
    }
   },
   "source": [
    "Confusingly, **```Nothing``` is a type that can only take the special value ```nothing```**. This represents the value returned by functions which do not return anything."
   ]
  },
  {
   "cell_type": "code",
   "execution_count": 5,
   "metadata": {},
   "outputs": [
    {
     "name": "stdout",
     "output_type": "stream",
     "text": [
      "Type of nada: Nothing,  Value of nada : nothing\n"
     ]
    }
   ],
   "source": [
    "nada = Nothing()\n",
    "println(\"Type of nada: \", typeof(nada), \",  Value of nada : \", nada)"
   ]
  },
  {
   "cell_type": "markdown",
   "metadata": {},
   "source": [
    "Similar to the ```NULL``` value in C or ```None``` in Python."
   ]
  },
  {
   "cell_type": "markdown",
   "metadata": {},
   "source": [
    "### 1.3 The ```Union``` Special Type"
   ]
  },
  {
   "cell_type": "markdown",
   "metadata": {
    "slideshow": {
     "slide_type": "slide"
    }
   },
   "source": [
    "**The ```Union``` is a type that includes all instances of any of its argument types.**"
   ]
  },
  {
   "cell_type": "code",
   "execution_count": 6,
   "metadata": {},
   "outputs": [
    {
     "name": "stdout",
     "output_type": "stream",
     "text": [
      "(Int64, String)\n",
      "(true, true)\n"
     ]
    }
   ],
   "source": [
    "intOrString = Union{Int64, String}\n",
    "n = Int64(42)\n",
    "s = \"Hello world\"\n",
    "println((typeof(n), typeof(s)))\n",
    "println((isa(n, intOrString), isa(s, intOrString)))"
   ]
  },
  {
   "cell_type": "markdown",
   "metadata": {},
   "source": [
    "*Particularly useful are unions like ```Union(Float64, Nothing)``` to represent the possibility of absent values.*"
   ]
  },
  {
   "cell_type": "markdown",
   "metadata": {},
   "source": [
    "### 1.4 Composite Data Types - ```Struct```"
   ]
  },
  {
   "cell_type": "markdown",
   "metadata": {
    "cell_style": "split",
    "slideshow": {
     "slide_type": "slide"
    }
   },
   "source": [
    "**A collection of named fields, that can be treated as a single value.** \n",
    "\n",
    "- **Defined in Julia using the ```struct``` keyword.**\n",
    "- *By default a struct cannot be changed once instantiated.*\n",
    "    - **Use ```mutable struct``` keyword to change this.**"
   ]
  },
  {
   "cell_type": "code",
   "execution_count": 7,
   "metadata": {
    "cell_style": "split"
   },
   "outputs": [
    {
     "name": "stdout",
     "output_type": "stream",
     "text": [
      "x = 1.0,  y = 2.0, label is: point A\n"
     ]
    }
   ],
   "source": [
    "module tmp\n",
    "\n",
    "struct point\n",
    "    x::Float64\n",
    "    y::Float64\n",
    "    label::String\n",
    "end\n",
    "\n",
    "end\n",
    "P = tmp.point(1.0, 2.0, \"point A\")\n",
    "println(\"x = \", P.x, \",  y = \", P.y, \", label is: \", P.label )"
   ]
  },
  {
   "cell_type": "code",
   "execution_count": 8,
   "metadata": {
    "cell_style": "split"
   },
   "outputs": [
    {
     "ename": "LoadError",
     "evalue": "setfield! immutable struct of type point cannot be changed",
     "output_type": "error",
     "traceback": [
      "setfield! immutable struct of type point cannot be changed",
      "",
      "Stacktrace:",
      " [1] setproperty!(::Main.tmp.point, ::Symbol, ::Float64) at ./Base.jl:34",
      " [2] top-level scope at In[8]:1",
      " [3] include_string(::Function, ::Module, ::String, ::String) at ./loading.jl:1091"
     ]
    }
   ],
   "source": [
    "P.x = -1.0"
   ]
  },
  {
   "cell_type": "markdown",
   "metadata": {},
   "source": [
    "#### 1.4.1 Constructors"
   ]
  },
  {
   "cell_type": "markdown",
   "metadata": {
    "cell_style": "split",
    "slideshow": {
     "slide_type": "slide"
    }
   },
   "source": [
    "- **A constructor is a function called to initialize a struct.**\n",
    "- *A default constructor is defined automatically*:\n",
    "    ```\n",
    "    point(::Float64, ::Float64, ::String)\n",
    "    ```\n",
    "- Two types: *outer* and *inner*."
   ]
  },
  {
   "cell_type": "markdown",
   "metadata": {},
   "source": [
    "##### 1.4.1.1 Outer Constructors"
   ]
  },
  {
   "cell_type": "markdown",
   "metadata": {
    "cell_style": "split"
   },
   "source": [
    "We can define our own outer constructors like any other function:"
   ]
  },
  {
   "cell_type": "code",
   "execution_count": 9,
   "metadata": {
    "cell_style": "split"
   },
   "outputs": [
    {
     "data": {
      "text/plain": [
       "point (generic function with 1 method)"
      ]
     },
     "execution_count": 9,
     "metadata": {},
     "output_type": "execute_result"
    }
   ],
   "source": [
    "point(x::Float64) = tmp.point(x,x,\"\")"
   ]
  },
  {
   "cell_type": "code",
   "execution_count": 10,
   "metadata": {
    "cell_style": "split"
   },
   "outputs": [
    {
     "data": {
      "text/plain": [
       "Main.tmp.point(1.0, 1.0, \"\")"
      ]
     },
     "execution_count": 10,
     "metadata": {},
     "output_type": "execute_result"
    }
   ],
   "source": [
    "P = point(1.0)"
   ]
  },
  {
   "cell_type": "markdown",
   "metadata": {},
   "source": [
    "##### 1.4.1.2 Inner Constructors"
   ]
  },
  {
   "cell_type": "markdown",
   "metadata": {
    "cell_style": "split",
    "slideshow": {
     "slide_type": "slide"
    }
   },
   "source": [
    "1. **Inner constructors are declared inside the type declaration.**\n",
    "2. *Inner constructors have access to special function ```new``` that creates an uninitialised instance of the type.*"
   ]
  },
  {
   "cell_type": "markdown",
   "metadata": {
    "cell_style": "split"
   },
   "source": [
    "*Useful for enforcing constraints and building self-referential objects.*"
   ]
  },
  {
   "cell_type": "code",
   "execution_count": 11,
   "metadata": {
    "cell_style": "split"
   },
   "outputs": [
    {
     "name": "stderr",
     "output_type": "stream",
     "text": [
      "WARNING: replacing module tmp.\n"
     ]
    },
    {
     "data": {
      "text/plain": [
       "Main.tmp"
      ]
     },
     "execution_count": 11,
     "metadata": {},
     "output_type": "execute_result"
    }
   ],
   "source": [
    "module tmp\n",
    "struct OrderedPair\n",
    "    x::Real\n",
    "    y::Real\n",
    "    OrderedPair(x,y) = x > y ? \n",
    "        println(\"out of order\") : \n",
    "        new(x,y)\n",
    "end\n",
    "end"
   ]
  },
  {
   "cell_type": "code",
   "execution_count": 12,
   "metadata": {
    "cell_style": "split"
   },
   "outputs": [
    {
     "name": "stdout",
     "output_type": "stream",
     "text": [
      "out of order\n"
     ]
    }
   ],
   "source": [
    "x = tmp.OrderedPair(3.0, 2.3)"
   ]
  },
  {
   "cell_type": "code",
   "execution_count": 13,
   "metadata": {},
   "outputs": [
    {
     "name": "stdout",
     "output_type": "stream",
     "text": [
      "nothing"
     ]
    }
   ],
   "source": [
    "print(x)"
   ]
  },
  {
   "cell_type": "code",
   "execution_count": 14,
   "metadata": {},
   "outputs": [
    {
     "data": {
      "text/plain": [
       "Main.tmp.OrderedPair(2.3, 3.0)"
      ]
     },
     "execution_count": 14,
     "metadata": {},
     "output_type": "execute_result"
    }
   ],
   "source": [
    "x = tmp.OrderedPair(2.3, 3.0)"
   ]
  },
  {
   "cell_type": "code",
   "execution_count": 15,
   "metadata": {},
   "outputs": [
    {
     "name": "stdout",
     "output_type": "stream",
     "text": [
      "Main.tmp.OrderedPair(2.3, 3.0)\n",
      "2.3\n",
      "3.0\n"
     ]
    }
   ],
   "source": [
    "println(x)\n",
    "println(x.x)\n",
    "println(x.y)"
   ]
  },
  {
   "cell_type": "code",
   "execution_count": 16,
   "metadata": {
    "slideshow": {
     "slide_type": "skip"
    }
   },
   "outputs": [
    {
     "name": "stdout",
     "output_type": "stream",
     "text": [
      "This is the inner constructor\n"
     ]
    },
    {
     "name": "stderr",
     "output_type": "stream",
     "text": [
      "WARNING: replacing module tmp.\n"
     ]
    },
    {
     "data": {
      "text/plain": [
       "Main.tmp.OrderedPair(1.0, 2.0)"
      ]
     },
     "execution_count": 16,
     "metadata": {},
     "output_type": "execute_result"
    }
   ],
   "source": [
    "### More explicit version of the inner constructor example\n",
    "module tmp\n",
    "struct OrderedPair\n",
    "    x::Real\n",
    "    y::Real\n",
    "    \n",
    "    function OrderedPair(x,y)\n",
    "        println(\"This is the inner constructor\")\n",
    "        if x > y \n",
    "            println(\"out of order\")\n",
    "        else\n",
    "            return new(x,y)\n",
    "        end\n",
    "    end\n",
    "    \n",
    "end\n",
    "end\n",
    "\n",
    "x = tmp.OrderedPair(1.0, 2.0)"
   ]
  },
  {
   "cell_type": "markdown",
   "metadata": {},
   "source": [
    "## 2. Data Structures"
   ]
  },
  {
   "cell_type": "markdown",
   "metadata": {
    "cell_style": "center",
    "slideshow": {
     "slide_type": "slide"
    }
   },
   "source": [
    "**A data structure is a specialized way of organising data in a computer so that certain operations can be performed efficiently.**\n",
    "\n",
    "- Composite types are simplest examples.\n",
    "- **Static data structures have a fixed size.** **Dynamic data structures can grow and shrink depending on the data that they contain.**\n",
    "- Associated with almost every data structure is a set of basic operations that it is designed to perform efficiently (conversely some other operations might be very inefficient or impossible.)"
   ]
  },
  {
   "cell_type": "markdown",
   "metadata": {
    "cell_style": "split",
    "slideshow": {
     "slide_type": "slide"
    }
   },
   "source": [
    "### 2.1 Examples of some common data structures"
   ]
  },
  {
   "cell_type": "markdown",
   "metadata": {
    "cell_style": "split",
    "slideshow": {
     "slide_type": "-"
    }
   },
   "source": [
    "- Linear arrays\n",
    "- Linked lists\n",
    "- Stacks\n",
    "- Queues\n",
    "- Hash tables\n",
    "- Binary trees\n",
    "- Heaps\n",
    "- Graphs"
   ]
  },
  {
   "cell_type": "markdown",
   "metadata": {},
   "source": [
    "### 2.2 Arrays"
   ]
  },
  {
   "cell_type": "markdown",
   "metadata": {
    "cell_style": "split",
    "slideshow": {
     "slide_type": "slide"
    }
   },
   "source": [
    "\n",
    "<img src=\"files/images/array.png\" alt=\"array\" style=\"width: 600px;\"/>  \n"
   ]
  },
  {
   "cell_type": "markdown",
   "metadata": {
    "cell_style": "split"
   },
   "source": [
    "- Basic operations:\n",
    "    - **```access(i)``` : return get value at index ```i```**\n",
    "    - **```update(i,v)``` : set value at index ```i``` equal to ```v```.**\n",
    "- *```insert( )``` and ```delete( )``` not possible - static data structure.*\n",
    "- *Building block for many other data structures.*"
   ]
  },
  {
   "cell_type": "markdown",
   "metadata": {},
   "source": [
    "### 2.3 Linked lists"
   ]
  },
  {
   "cell_type": "markdown",
   "metadata": {
    "slideshow": {
     "slide_type": "slide"
    }
   },
   "source": [
    "\n",
    "<img src=\"files/images/list.png\" alt=\"array\" style=\"width: 1000px;\"/>  \n"
   ]
  },
  {
   "cell_type": "markdown",
   "metadata": {},
   "source": [
    "**A linked list is a sequence of elements called nodes in linear order that are linked to each other.**\n",
    "- **The first/last node is called the head/tail respectively.**\n",
    "- *Each node consists of a data container and a link to the next node.*\n",
    "- *Dynamic data structure but only sequential access is possible.*\n",
    "- Variants: singly linked, doubly linked, circularly linked.\n",
    "- Basic operations:\n",
    "    - ```search(x)```: determine if data ```x``` is in the list (and perhaps return a reference to it).\n",
    "    - ```insert(x)```: add new node with data ```x``` at beginning/middle/end. \n",
    "    - ```delete(x)```: delete node with data ```x``` from the list."
   ]
  },
  {
   "cell_type": "markdown",
   "metadata": {},
   "source": [
    "#### 2.3.1 Aside: Pointers & References"
   ]
  },
  {
   "cell_type": "markdown",
   "metadata": {
    "slideshow": {
     "slide_type": "slide"
    }
   },
   "source": [
    "Discussions of linked lists often refer to linking nodes using pointers. **A pointer (especially in C/C++) is a data type that contains the memory address of another object/variable.**\n",
    "\n",
    "*Julia does not have pointers* - *variables are accessed via references.*\n",
    "\n",
    "**A reference is also a data type that contains the memory address of another object/variable.**"
   ]
  },
  {
   "cell_type": "markdown",
   "metadata": {},
   "source": [
    "##### 2.3.1.1 Aside: Pointers & References - So What's the Difference?"
   ]
  },
  {
   "cell_type": "markdown",
   "metadata": {
    "cell_style": "split",
    "slideshow": {
     "slide_type": "slide"
    }
   },
   "source": [
    "- *A reference must refer to an existing object. It cannot change once created.*\n",
    "- *A pointer can be ```NULL``` and can be updated to refer to a different memory location by changing its value.*"
   ]
  },
  {
   "cell_type": "markdown",
   "metadata": {
    "cell_style": "split"
   },
   "source": [
    "Pointers are powerful but dangerous:\n",
    "* segmentation faults\n",
    "* memory leaks\n",
    "* dangling pointers"
   ]
  },
  {
   "cell_type": "markdown",
   "metadata": {
    "cell_style": "split",
    "slideshow": {
     "slide_type": "fragment"
    }
   },
   "source": [
    "If [Maslov](https://en.wikipedia.org/wiki/Law_of_the_instrument) were a software engineer:\n",
    "\n",
    "\"When the only tool you have is C++, every problem looks like your thumb\"."
   ]
  },
  {
   "cell_type": "markdown",
   "metadata": {},
   "source": [
    "### 2.4 Stacks"
   ]
  },
  {
   "cell_type": "markdown",
   "metadata": {
    "cell_style": "split",
    "slideshow": {
     "slide_type": "slide"
    }
   },
   "source": [
    "\n",
    "<img src=\"files/images/stack.png\" alt=\"array\" style=\"width: 400px;\"/>  \n"
   ]
  },
  {
   "cell_type": "markdown",
   "metadata": {
    "cell_style": "split"
   },
   "source": [
    "**A stack is a linear data store with a LIFO (Last In First Out) access protocol: the last inserted element must be accessed first.**\n",
    "\n",
    "- *Can be static or dynamic.*\n",
    "- So named because it resembles a stack of plates...\n",
    "- *Used, for example, to implement function calls in recursive programming.*\n",
    "- Basic operations:\n",
    "    - ```push(x)``` : add the element ```x``` to the top of the stack.\n",
    "    - ```pop( )``` : remove the top element from the stack and return it.\n",
    "    - ```peek( )``` : return the top element from the stack without deleting it.\n",
    "    - ```isempty( )``` : check if the stack is empty."
   ]
  },
  {
   "cell_type": "markdown",
   "metadata": {},
   "source": [
    "### 2.5 Queues"
   ]
  },
  {
   "cell_type": "markdown",
   "metadata": {
    "cell_style": "split",
    "slideshow": {
     "slide_type": "slide"
    }
   },
   "source": [
    "<img src=\"files/images/queue.png\" alt=\"queue\" style=\"width: 400px;\"/>  "
   ]
  },
  {
   "cell_type": "markdown",
   "metadata": {
    "cell_style": "split"
   },
   "source": [
    "**A queue is a linear data store with a FIFO (First In First Out) access protocol: the first inserted element must be accessed first.**\n",
    "- Can be static or dynamic.\n",
    "- So named because it resembles a real queue!\n",
    "- *Used, for example, to serve requests on a shared resource.*\n",
    "- Basic operations:\n",
    "    - ```enqueue(x)```: insert element ```x``` to the end of the queue. \n",
    "    - ```dequeue()```: return the element at the beginning of the queue and delete it from the queue."
   ]
  },
  {
   "cell_type": "markdown",
   "metadata": {},
   "source": [
    "### 2.6 Hash Tables (Associative Array or Dictionary)"
   ]
  },
  {
   "cell_type": "markdown",
   "metadata": {
    "cell_style": "split",
    "slideshow": {
     "slide_type": "slide"
    }
   },
   "source": [
    "<img src=\"files/images/hash.png\" alt=\"hash\" style=\"width: 600px;\"/>  "
   ]
  },
  {
   "cell_type": "markdown",
   "metadata": {
    "cell_style": "split"
   },
   "source": [
    "**A hash table stores a set of values,**\n",
    "$$\\left\\{A, B, C, D, E\\right\\},$$ \n",
    "**associated with a set of keys,**\n",
    "$$\\left\\{key\\ A, key\\ B, key\\ C, key\\ D, key\\ E\\right\\},$$\n",
    "**in a way that supports efficient lookup - i.e. $\\mathcal{O}(1)$.**\n",
    "\n",
    "Direct addressing (convert key ```X``` to an integer, ```k```, and store value ```X``` in slot ```k```) is often not feasible."
   ]
  },
  {
   "cell_type": "markdown",
   "metadata": {},
   "source": [
    "#### 2.6.1 Hash tables - An Example"
   ]
  },
  {
   "cell_type": "markdown",
   "metadata": {
    "cell_style": "split",
    "slideshow": {
     "slide_type": "slide"
    }
   },
   "source": [
    "Suppose the keys are integers in the range $1$ - $1024$ and we need to store, say, $4$ random key-value pairs. \n",
    "\n",
    "- Direct addressing would require an array of size $1024$.\n",
    "- Instead use an array of size $23$ and the hash function\n",
    "    $$h(k) = k\\%23 + 1$$"
   ]
  },
  {
   "cell_type": "code",
   "execution_count": 17,
   "metadata": {
    "cell_style": "split"
   },
   "outputs": [
    {
     "name": "stdout",
     "output_type": "stream",
     "text": [
      "Key 233 ->  index 4\n",
      "Key 1011 ->  index 23\n",
      "Key 81 ->  index 13\n",
      "Key 1004 ->  index 16\n"
     ]
    }
   ],
   "source": [
    "keys = rand(0:1024, 4)\n",
    "idx = [k%23 + 1 for k in keys]\n",
    "for i in 1:4\n",
    "    println(\"Key \", keys[i], \" -> \", \" index \",idx[i])\n",
    "end"
   ]
  },
  {
   "cell_type": "markdown",
   "metadata": {
    "cell_style": "split"
   },
   "source": [
    "- *Of course need a strategy to resolve conflicts. e.g. use buckets.*\n",
    "- Probability of conflicts grows as the **load factor (#entries/#buckets)** increases."
   ]
  },
  {
   "cell_type": "markdown",
   "metadata": {},
   "source": [
    "### 2.7 Binary Trees"
   ]
  },
  {
   "cell_type": "markdown",
   "metadata": {
    "cell_style": "split",
    "slideshow": {
     "slide_type": "slide"
    }
   },
   "source": [
    "<img src=\"files/images/tree.png\" alt=\"tree\" style=\"width: 600px;\"/>  "
   ]
  },
  {
   "cell_type": "markdown",
   "metadata": {
    "cell_style": "split"
   },
   "source": [
    "**A binary tree is a hierarchical data structure in which nodes are linked together in parent/child relationships.**\n",
    "- **Each node contains a data container and pointers/references to left and right child nodes.**\n",
    "- **Height of the tree : maximal number of edges from the root to the leaves.**"
   ]
  },
  {
   "cell_type": "markdown",
   "metadata": {},
   "source": [
    "## 3. Structural Recursion"
   ]
  },
  {
   "cell_type": "markdown",
   "metadata": {
    "slideshow": {
     "slide_type": "slide"
    }
   },
   "source": [
    "Note that linked lists and binary trees have a recursive aspect:\n",
    "\n",
    "- A linked list is either empty, or a node followed by a list.\n",
    "- A binary tree is either empty, or a node with two binary trees as children.\n",
    "\n",
    "**Such data structures can actually be defined in a self-referential way. This is called structural recursion.**"
   ]
  },
  {
   "cell_type": "markdown",
   "metadata": {},
   "source": [
    "### 3.1 Structural Recursion in Julia"
   ]
  },
  {
   "cell_type": "markdown",
   "metadata": {
    "cell_style": "split",
    "slideshow": {
     "slide_type": "slide"
    }
   },
   "source": [
    "Recursive definition of the linked list type:\n",
    "\n",
    "```julia\n",
    "mutable struct LinkedList\n",
    "    data::Any\n",
    "    next::LinkedList\n",
    "end\n",
    "```"
   ]
  },
  {
   "cell_type": "code",
   "execution_count": 18,
   "metadata": {
    "cell_style": "split"
   },
   "outputs": [
    {
     "name": "stderr",
     "output_type": "stream",
     "text": [
      "WARNING: replacing module tmp.\n"
     ]
    },
    {
     "data": {
      "text/plain": [
       "Main.tmp"
      ]
     },
     "execution_count": 18,
     "metadata": {},
     "output_type": "execute_result"
    }
   ],
   "source": [
    "module tmp\n",
    "mutable struct LinkedList\n",
    "    data::Any\n",
    "    next::LinkedList\n",
    "end\n",
    "end"
   ]
  },
  {
   "cell_type": "markdown",
   "metadata": {
    "cell_style": "split",
    "slideshow": {
     "slide_type": "fragment"
    }
   },
   "source": [
    "Doesn't quite work due to initialization problem:"
   ]
  },
  {
   "cell_type": "code",
   "execution_count": 20,
   "metadata": {
    "cell_style": "split"
   },
   "outputs": [
    {
     "ename": "LoadError",
     "evalue": "MethodError: Cannot `convert` an object of type Nothing to an object of type Main.tmp.LinkedList\nClosest candidates are:\n  convert(::Type{T}, !Matched::T) where T at essentials.jl:171\n  Main.tmp.LinkedList(::Any, !Matched::Main.tmp.LinkedList) at In[18]:3\n  Main.tmp.LinkedList(::Any, !Matched::Any) at In[18]:3",
     "output_type": "error",
     "traceback": [
      "MethodError: Cannot `convert` an object of type Nothing to an object of type Main.tmp.LinkedList\nClosest candidates are:\n  convert(::Type{T}, !Matched::T) where T at essentials.jl:171\n  Main.tmp.LinkedList(::Any, !Matched::Main.tmp.LinkedList) at In[18]:3\n  Main.tmp.LinkedList(::Any, !Matched::Any) at In[18]:3",
      "",
      "Stacktrace:",
      " [1] Main.tmp.LinkedList(::Float64, ::Nothing) at ./In[18]:3",
      " [2] top-level scope at In[20]:1",
      " [3] include_string(::Function, ::Module, ::String, ::String) at ./loading.jl:1091"
     ]
    }
   ],
   "source": [
    "L = tmp.LinkedList(0.0,nothing)"
   ]
  },
  {
   "cell_type": "markdown",
   "metadata": {
    "cell_style": "split",
    "slideshow": {
     "slide_type": "slide"
    }
   },
   "source": [
    "- Method 1: use the ```Union``` type:\n",
    "    ```julia\n",
    "    mutable struct LinkedList\n",
    "        data::Any\n",
    "        next::Union{LinkedList, Nothing}\n",
    "    end\n",
    "    ```\n",
    "    \n",
    "Worksheet 3 demonstrates this method."
   ]
  },
  {
   "cell_type": "markdown",
   "metadata": {
    "cell_style": "split",
    "slideshow": {
     "slide_type": "fragment"
    }
   },
   "source": [
    "- Method 2: use an inner constructor:\n",
    "\n",
    "```julia\n",
    "mutable struct LinkedList\n",
    "  data::Any\n",
    "  next::LinkedList\n",
    "  \n",
    "  LinkedList() = (x=new();  \n",
    "  x.next=x; x)\n",
    "  \n",
    "  LinkedList(d::Any,L::LinkedList) = new(d,L)\n",
    "end\n",
    "```"
   ]
  },
  {
   "cell_type": "markdown",
   "metadata": {
    "slideshow": {
     "slide_type": "slide"
    }
   },
   "source": [
    "#### 3.1.1 Method 2 Implementation - Type Definition"
   ]
  },
  {
   "cell_type": "code",
   "execution_count": 21,
   "metadata": {
    "slideshow": {
     "slide_type": "-"
    }
   },
   "outputs": [],
   "source": [
    "mutable struct LinkedList\n",
    "    data::Any\n",
    "    next::LinkedList\n",
    "    LinkedList() = (x=new(); x.next=x; x)\n",
    "    LinkedList(d::Any, L::LinkedList) = new(d,L)\n",
    "end"
   ]
  },
  {
   "cell_type": "code",
   "execution_count": 22,
   "metadata": {},
   "outputs": [
    {
     "data": {
      "text/plain": [
       "LinkedList(#undef, LinkedList(#= circular reference @-1 =#))"
      ]
     },
     "execution_count": 22,
     "metadata": {},
     "output_type": "execute_result"
    }
   ],
   "source": [
    "L = LinkedList()"
   ]
  },
  {
   "cell_type": "markdown",
   "metadata": {
    "slideshow": {
     "slide_type": "slide"
    }
   },
   "source": [
    "#### 3.1.2 Method 2 Implementation - Function to Add Items"
   ]
  },
  {
   "cell_type": "code",
   "execution_count": 24,
   "metadata": {
    "slideshow": {
     "slide_type": "-"
    }
   },
   "outputs": [
    {
     "data": {
      "text/plain": [
       "add! (generic function with 1 method)"
      ]
     },
     "execution_count": 24,
     "metadata": {},
     "output_type": "execute_result"
    }
   ],
   "source": [
    "function add!(L::LinkedList, d::Any)\n",
    "    global L = LinkedList(d, L)\n",
    "end"
   ]
  },
  {
   "cell_type": "code",
   "execution_count": 25,
   "metadata": {},
   "outputs": [
    {
     "data": {
      "text/plain": [
       "LinkedList(1, LinkedList(#undef, LinkedList(#= circular reference @-1 =#)))"
      ]
     },
     "execution_count": 25,
     "metadata": {},
     "output_type": "execute_result"
    }
   ],
   "source": [
    "add!(L, 1)"
   ]
  },
  {
   "cell_type": "markdown",
   "metadata": {
    "slideshow": {
     "slide_type": "slide"
    }
   },
   "source": [
    "#### 3.1.3 Method 2 Implementation - Function to Remove Items"
   ]
  },
  {
   "cell_type": "code",
   "execution_count": 26,
   "metadata": {
    "slideshow": {
     "slide_type": "-"
    }
   },
   "outputs": [
    {
     "data": {
      "text/plain": [
       "pop! (generic function with 1 method)"
      ]
     },
     "execution_count": 26,
     "metadata": {},
     "output_type": "execute_result"
    }
   ],
   "source": [
    "function pop!(L::LinkedList)\n",
    "    if L.next == L\n",
    "        println(\"List is empty\")\n",
    "        return\n",
    "    else\n",
    "        d = L.data\n",
    "        global L = L.next\n",
    "        return d\n",
    "    end\n",
    "end"
   ]
  },
  {
   "cell_type": "code",
   "execution_count": 27,
   "metadata": {},
   "outputs": [
    {
     "data": {
      "text/plain": [
       "1"
      ]
     },
     "execution_count": 27,
     "metadata": {},
     "output_type": "execute_result"
    }
   ],
   "source": [
    "pop!(L)"
   ]
  },
  {
   "cell_type": "code",
   "execution_count": 28,
   "metadata": {},
   "outputs": [
    {
     "name": "stdout",
     "output_type": "stream",
     "text": [
      "List is empty\n"
     ]
    }
   ],
   "source": [
    "pop!(L)"
   ]
  },
  {
   "cell_type": "markdown",
   "metadata": {
    "slideshow": {
     "slide_type": "slide"
    }
   },
   "source": [
    "#### 3.1.4 Method 2 Implementation - Function to Print All items "
   ]
  },
  {
   "cell_type": "code",
   "execution_count": 29,
   "metadata": {
    "slideshow": {
     "slide_type": "-"
    }
   },
   "outputs": [],
   "source": [
    "function Base.print(L::LinkedList)\n",
    "    if L.next == L\n",
    "        return\n",
    "    else\n",
    "        println(L.data)\n",
    "        print(L.next)\n",
    "    end\n",
    "end"
   ]
  },
  {
   "cell_type": "code",
   "execution_count": 30,
   "metadata": {},
   "outputs": [],
   "source": [
    "print(L)"
   ]
  },
  {
   "cell_type": "markdown",
   "metadata": {
    "slideshow": {
     "slide_type": "slide"
    }
   },
   "source": [
    "#### 3.1.5 Testing the code"
   ]
  },
  {
   "cell_type": "code",
   "execution_count": 31,
   "metadata": {
    "slideshow": {
     "slide_type": "-"
    }
   },
   "outputs": [
    {
     "data": {
      "text/plain": [
       "LinkedList(#undef, LinkedList(#= circular reference @-1 =#))"
      ]
     },
     "execution_count": 31,
     "metadata": {},
     "output_type": "execute_result"
    }
   ],
   "source": [
    "data = ['J','u','l','i','a']\n",
    "L = LinkedList()"
   ]
  },
  {
   "cell_type": "code",
   "execution_count": 32,
   "metadata": {
    "slideshow": {
     "slide_type": "fragment"
    }
   },
   "outputs": [],
   "source": [
    "for item in data\n",
    "    add!(L,item)\n",
    "end"
   ]
  },
  {
   "cell_type": "code",
   "execution_count": 33,
   "metadata": {
    "slideshow": {
     "slide_type": "fragment"
    }
   },
   "outputs": [
    {
     "name": "stdout",
     "output_type": "stream",
     "text": [
      "a\n",
      "i\n",
      "l\n",
      "u\n",
      "J\n"
     ]
    }
   ],
   "source": [
    "print(L)"
   ]
  },
  {
   "cell_type": "code",
   "execution_count": 34,
   "metadata": {
    "slideshow": {
     "slide_type": "-"
    }
   },
   "outputs": [
    {
     "name": "stdout",
     "output_type": "stream",
     "text": [
      "i\n",
      "l\n",
      "u\n",
      "J\n"
     ]
    }
   ],
   "source": [
    "pop!(L)\n",
    "print(L)"
   ]
  },
  {
   "cell_type": "markdown",
   "metadata": {
    "slideshow": {
     "slide_type": "fragment"
    }
   },
   "source": [
    "This is actually a list-based implementation of a stack."
   ]
  },
  {
   "cell_type": "markdown",
   "metadata": {},
   "source": [
    "### 3.2 Binary search trees (BST)"
   ]
  },
  {
   "cell_type": "markdown",
   "metadata": {
    "cell_style": "split",
    "slideshow": {
     "slide_type": "slide"
    }
   },
   "source": [
    "**A BST stores integer keys in a sorted order to facilitate fast search:**\n",
    "- All nodes, ```y```, in left subtree of any node, ```x```, have ```y.key ≤ x.key```.\n",
    "- All nodes, ```y```, in the right subtree of any node ```x```, have ```y.key ≥ x.key```."
   ]
  },
  {
   "cell_type": "markdown",
   "metadata": {
    "cell_style": "split"
   },
   "source": [
    "Here is a BST storing the keys ```{0,1,2,3,5,6,7,9}```:\n",
    "<img src=\"files/images/BST1.png\" alt=\"BST1\" style=\"width: 400px;\"/>  "
   ]
  },
  {
   "cell_type": "markdown",
   "metadata": {},
   "source": [
    "#### 3.2.1 Fast Search"
   ]
  },
  {
   "cell_type": "markdown",
   "metadata": {
    "cell_style": "split",
    "slideshow": {
     "slide_type": "slide"
    }
   },
   "source": [
    "```julia\n",
    "search(T::BST, k::int)\n",
    "  if T is empty\n",
    "    return false\n",
    "  elseif T.key == k\n",
    "    return true\n",
    "  else\n",
    "    if k <= T.key\n",
    "      search(T.left, k)\n",
    "    else\n",
    "      search(T.right, k)\n",
    "    end\n",
    "  end\n",
    "end\n",
    "```\n",
    "\n",
    "- Recursive algorithm to search for a key in a BST.\n",
    "- Maximum number of comparisons is the depth of the tree.\n",
    "    - *If the tree is balanced, depth is $\\mathcal{O}(\\log_2 n)$.*\n",
    "- *Note building the tree is $\\mathcal{O}(n)$*\n"
   ]
  },
  {
   "cell_type": "markdown",
   "metadata": {},
   "source": [
    "#### 3.2.2 Another Application: Event Selection in the Gillespie Algorithm"
   ]
  },
  {
   "cell_type": "markdown",
   "metadata": {
    "cell_style": "split",
    "slideshow": {
     "slide_type": "slide"
    }
   },
   "source": [
    "Simulates trajectories from a continuous time Markov chain.\n",
    "\n",
    "From $S$ at time $t$, 8 possible states, $S_1\\ldots S_8$, accessible with transition rates, $r_1\\ldots r_8$.\n",
    "\n",
    "Probability of transition $S\\to S_i$ is proportional to $r_i$."
   ]
  },
  {
   "cell_type": "markdown",
   "metadata": {
    "cell_style": "split"
   },
   "source": [
    "<img src=\"files/images/Gillespie1.png\" alt=\"Gillespie\" style=\"width: 300px;\"/>  "
   ]
  },
  {
   "cell_type": "markdown",
   "metadata": {},
   "source": [
    "##### 3.2.2.1 Gillespie Algorithm"
   ]
  },
  {
   "cell_type": "markdown",
   "metadata": {
    "cell_style": "split",
    "slideshow": {
     "slide_type": "slide"
    }
   },
   "source": [
    "Build the list of partial sums:\n",
    "\n",
    "$$ x_i = \\sum_{j=1}^i r_j $$\n",
    "\n",
    "Generate $x \\sim \\text{Uniform}(0, x_8)$\n",
    "\n",
    "<img src=\"files/images/Gillespie2.png\" alt=\"Interval\" style=\"width: 600px;\"/>  "
   ]
  },
  {
   "cell_type": "markdown",
   "metadata": {
    "cell_style": "split"
   },
   "source": [
    "Find which interval $x$ falls in: find $k$ such that $x_{k-1} \\leq x < x_k$. \n",
    "\n",
    "Update state $S \\to S_k$ and update time $t \\to t+\\Delta t$ where $\\Delta t \\sim \\text{Exponential}(x_8)$.\n",
    "\n",
    "In practice number of transitions, $n$, large. Can we find $k$ faster than $\\mathcal{O}(n)$?\n",
    "\n",
    "*Interval membership problem*."
   ]
  },
  {
   "cell_type": "markdown",
   "metadata": {},
   "source": [
    "###### 3.2.2.1.1 Fenwick trees"
   ]
  },
  {
   "cell_type": "markdown",
   "metadata": {
    "cell_style": "split",
    "slideshow": {
     "slide_type": "slide"
    }
   },
   "source": [
    "\n",
    "<img src=\"files/images/fenwick.png\" alt=\"Fenwick\" style=\"width: 400px;\"/>  \n",
    "\n",
    "**A BST variant called a Fenwick tree can solve the interval membership problem in $\\mathcal{O}(\\log_2 n)$ comparisons.**"
   ]
  },
  {
   "cell_type": "markdown",
   "metadata": {
    "cell_style": "split"
   },
   "source": [
    "- **Each node in a Fenwick tree stores the sum of the values stored in its children.**\n",
    "- **Leaf nodes also need to store an integer key identifying the interval.**\n",
    "- *Similar to tree search but when descending the right subtree, must remember to exclude the partial sum on the left subtree.*"
   ]
  },
  {
   "cell_type": "markdown",
   "metadata": {},
   "source": [
    "###### 3.2.2.1.2 Fast Interval Membership\n"
   ]
  },
  {
   "cell_type": "markdown",
   "metadata": {
    "cell_style": "split",
    "slideshow": {
     "slide_type": "slide"
    }
   },
   "source": [
    "```julia\n",
    "search(T::FT, x::Float)\n",
    "  if T is leaf\n",
    "    return T.key\n",
    "  else\n",
    "    if x <= T.left.value\n",
    "      search(T.left, x)\n",
    "    else\n",
    "      search(T.right, x - T.left.value)\n",
    "    end\n",
    "  end\n",
    "end\n",
    "```"
   ]
  },
  {
   "cell_type": "markdown",
   "metadata": {
    "cell_style": "split"
   },
   "source": [
    "- *If the tree is balanced, this search is $\\mathcal{O}(\\log_2 n)$ (depth of tree).*\n",
    "- Gotcha? Transition rates usually depend on state. *Reconstructing the tree at each step would be $\\mathcal{O}(n)$.*\n",
    "- Partial sums can be updated in $\\mathcal{O}(\\log_2 n)$ operations. OK if small number of rates change at each step.\n",
    "- Need occasional rebalancing."
   ]
  },
  {
   "cell_type": "code",
   "execution_count": null,
   "metadata": {},
   "outputs": [],
   "source": []
  }
 ],
 "metadata": {
  "celltoolbar": "Slideshow",
  "kernelspec": {
   "display_name": "JuliaPro_v1.5.3-1 1.5.3",
   "language": "julia",
   "name": "juliapro_v1.5.3-1-1.5"
  },
  "language_info": {
   "file_extension": ".jl",
   "mimetype": "application/julia",
   "name": "julia",
   "version": "1.5.3"
  }
 },
 "nbformat": 4,
 "nbformat_minor": 2
}
