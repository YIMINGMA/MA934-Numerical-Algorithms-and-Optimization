{
 "cells": [
  {
   "cell_type": "markdown",
   "metadata": {
    "slideshow": {
     "slide_type": "slide"
    }
   },
   "source": [
    "# Floating Point Arithmetic"
   ]
  },
  {
   "cell_type": "markdown",
   "metadata": {},
   "source": [
    "## 1. Representations of Integers and Floating Points Numbers"
   ]
  },
  {
   "cell_type": "markdown",
   "metadata": {},
   "source": [
    "### 1.1 Representation of Unsigned Integers"
   ]
  },
  {
   "cell_type": "markdown",
   "metadata": {
    "cell_style": "split",
    "slideshow": {
     "slide_type": "slide"
    }
   },
   "source": [
    "Binary representation of (3-bit) integers:\n",
    "\n",
    "$$ b_2b_1b_0 = b_2\\,2^2 + b_1\\,2^1 + b_0\\,2^0. $$\n"
   ]
  },
  {
   "cell_type": "markdown",
   "metadata": {},
   "source": [
    "- *Finite maximum and minimum integers.*\n",
    "\n",
    "- Modern computers use $64$ bits but Julia provides smaller (and larger) integer types. Here are the unsigned integer types:\n",
    "\n",
    "    |Type |Bits |Minimum |Maximum |\n",
    "    |:- |--- | --- |---|\n",
    "    |```UInt8``` | $8$ |$0$ | $2^8 - 1$|\n",
    "    |```UInt16``` | $16$ |$0$ | $2^{16} - 1$|\n",
    "    |```UInt32``` | $32$ |$0$ | $2^{32} - 1$|\n",
    "    |```UInt64``` | $64$ |$0$ | $2^{64} - 1$|\n",
    "    |```UInt128``` | $128$ |$0$ | $2^{128} - 1$|"
   ]
  },
  {
   "cell_type": "code",
   "execution_count": 1,
   "metadata": {
    "cell_style": "split"
   },
   "outputs": [
    {
     "name": "stdout",
     "output_type": "stream",
     "text": [
      "x = 0x21\n",
      "x == 33 = true\n",
      "bitstring(x) = \"00100001\"\n"
     ]
    }
   ],
   "source": [
    "x = UInt8(33)\n",
    "@show x;\n",
    "@show x==33;\n",
    "@show bitstring(x); # Use bitstring to show the binary representation."
   ]
  },
  {
   "cell_type": "markdown",
   "metadata": {},
   "source": [
    "### 1.2 Representation of Signed Integers : $2$'s Complement"
   ]
  },
  {
   "cell_type": "markdown",
   "metadata": {
    "cell_style": "split",
    "slideshow": {
     "slide_type": "slide"
    }
   },
   "source": [
    "**The negative of $x>0$ is encoded using $2$'s complement,\n",
    " $$-x := \\overline{x} := \\text{ flip all bits of } x \\text{ and add } 1.$$**\n",
    "\n",
    "- Example:  \n",
    "    $6 = 00000110$,\n",
    "\n",
    "    $-6 = \\overline{6} = 11111001 + 1 = 11111010$."
   ]
  },
  {
   "cell_type": "code",
   "execution_count": 2,
   "metadata": {},
   "outputs": [
    {
     "name": "stdout",
     "output_type": "stream",
     "text": [
      "bitstring(x) = \"00000110\"\n",
      "bitstring(-x) = \"11111010\"\n"
     ]
    }
   ],
   "source": [
    "x = Int8(6)\n",
    "@show bitstring(x);\n",
    "@show bitstring(-x);"
   ]
  },
  {
   "cell_type": "markdown",
   "metadata": {
    "cell_style": "split"
   },
   "source": [
    "- Signed integer types in Julia:\n",
    "\n",
    "    |Type |Bits |Minimum |Maximum |\n",
    "    |:- |--- | --- |---|\n",
    "    |```Int8``` | $8$ |$-2^7$ | $2^7 - 1$|\n",
    "    |```Int16``` | $16$ |$-2^{15}$ | $2^{15} - 1$|\n",
    "    |```Int32``` | $32$ |$-2^{31}$ | $2^{31} - 1$|\n",
    "    |```Int64``` | $64$ |$-2^{63}$ | $2^{63} - 1$|\n",
    "    |```Int128``` | $128$ |$-2^{127}$ | $2^{127} - 1$|"
   ]
  },
  {
   "cell_type": "code",
   "execution_count": 3,
   "metadata": {
    "cell_style": "split",
    "slideshow": {
     "slide_type": "-"
    }
   },
   "outputs": [
    {
     "data": {
      "text/plain": [
       "\"00000000\""
      ]
     },
     "execution_count": 3,
     "metadata": {},
     "output_type": "execute_result"
    }
   ],
   "source": [
    "bitstring(Int8(0))"
   ]
  },
  {
   "cell_type": "code",
   "execution_count": 4,
   "metadata": {},
   "outputs": [
    {
     "data": {
      "text/plain": [
       "\"00000000000000000000000000101000\""
      ]
     },
     "execution_count": 4,
     "metadata": {},
     "output_type": "execute_result"
    }
   ],
   "source": [
    "bitstring(Int32(40))"
   ]
  },
  {
   "cell_type": "markdown",
   "metadata": {},
   "source": [
    "#### 1.2.1 Advantages of Two's Complement - Why Not Just Use a \"Sign\" Bit?"
   ]
  },
  {
   "cell_type": "markdown",
   "metadata": {},
   "source": [
    "- *Avoids two representations of zero.*"
   ]
  },
  {
   "cell_type": "code",
   "execution_count": 5,
   "metadata": {},
   "outputs": [
    {
     "name": "stdout",
     "output_type": "stream",
     "text": [
      "bitstring(Int8(x)) = \"00000000\"\n",
      "bitstring(Int8(-x)) = \"00000000\"\n"
     ]
    }
   ],
   "source": [
    "x = 0;\n",
    "@show bitstring(Int8(x));\n",
    "@show bitstring(Int8(-x));"
   ]
  },
  {
   "cell_type": "markdown",
   "metadata": {
    "cell_style": "center",
    "slideshow": {
     "slide_type": "slide"
    }
   },
   "source": [
    "- *Subtraction can be performed using the same hardware as addition*:\n",
    "    $$x - y = x + \\overline{y} \\quad \\text{(drop the leading (\"overflow\") bit)}.$$\n",
    "\n",
    "    - Example: \n",
    "    $$\n",
    "    \\begin{align*}\n",
    "    7 - 6 \\,(\\text{decimal})= & 7 + \\overline{6}\\,(\\text{decimal}) \\\\\n",
    "    = & 0000 \\, 0111 + 1111 \\, 1010 \\,(\\text{binary}) \\\\ \n",
    "    = & 1 \\, 0000 \\, 0001 \\,(\\text{binary}) \\\\ \n",
    "    = & 0000 \\, 0001 \\,(\\text{drop the overflow bit, binary}).\n",
    "    \\end{align*}\n",
    "    $$"
   ]
  },
  {
   "cell_type": "code",
   "execution_count": 6,
   "metadata": {},
   "outputs": [
    {
     "name": "stdout",
     "output_type": "stream",
     "text": [
      "bitstring(Int8(7) + Int8(-6)) = \"00000001\"\n",
      "bitstring(Int8(7 - 6)) = \"00000001\"\n"
     ]
    }
   ],
   "source": [
    "x = 7;\n",
    "y = 6;\n",
    "@show bitstring(Int8(7) + Int8(-6));\n",
    "@show bitstring(Int8(7-6));"
   ]
  },
  {
   "cell_type": "markdown",
   "metadata": {},
   "source": [
    "### 1.3 Representation of Real Numbers"
   ]
  },
  {
   "cell_type": "markdown",
   "metadata": {
    "cell_style": "split",
    "slideshow": {
     "slide_type": "slide"
    }
   },
   "source": [
    "**Use a binary version of normalized scientific notation:\n",
    "$ x = (-1)^S \\times  (1.0+0.M) \\times 2^E $.**\n",
    "\n",
    "e.g. IEEE 754 32-bit (```Float32```): \n",
    "\n",
    "|Field |Size|Bits |\n",
    "| :-- | :-: | :-: |\n",
    "| Sign ($S$) | $1$ | $31$ |\n",
    "| Exponent ($E + 127$) | $8$ | $23$ - $30$ |\n",
    "| Mantissa ($M$) | $23$ | $0$ - $22$ |"
   ]
  },
  {
   "cell_type": "markdown",
   "metadata": {
    "cell_style": "split",
    "slideshow": {
     "slide_type": "-"
    }
   },
   "source": [
    "**\"Bias\": if exponent is $E$, we store $E+127$ (for ```Float32```).**  *This makes comparisons easier.*\n",
    "![Float32](files/images/590px-Float_example.png)"
   ]
  },
  {
   "cell_type": "markdown",
   "metadata": {},
   "source": [
    "$0.15625 \\, (decimial)\\to ? \\, (binary)$\n",
    "\n",
    "$$\n",
    "\\begin{align*}\n",
    "0.15625 \\times 2 & = 0.3125 & \\cdots 0 \\\\ \n",
    "0.3125 \\times 2 & = 0.625 & \\cdots 0 \\\\\n",
    "0.625 \\times 2 & = 0.25 & \\cdots 1 \\\\ \n",
    "0.25 \\times 2 & = 0.5 & \\cdots 0 \\\\\n",
    "0.5 \\times 2 & = 0 & \\cdots 1\n",
    "\\end{align*}\n",
    "$$\n",
    "\n",
    "Thus, $0.15625 \\, (decimal) = 0.00101 \\, (binary) = (-1)^0 \\times (1 + 0.01) \\, (binary)  \\, \\times 2^{-3} \\,(decimal)$, which means $S = 0, M = 0.01 \\underbrace{0\\cdots0}_{21 \\, 0's}, E \\, (decimal) = -3 + 127 = 124$.\n",
    "\n",
    "$124 \\, (decimal) \\to ? \\, (binary)$ \n",
    "\n",
    "$$\n",
    "\\begin{align*}\n",
    "124 \\div 2 & = 62 & \\cdots 0 \\\\ \n",
    "62 \\div 2 & = 31 & \\cdots 0 \\\\ \n",
    "31 \\div 2 & = 15 & \\cdots 1 \\\\ \n",
    "15 \\div 2 & = 7 & \\cdots 1 \\\\ \n",
    "7 \\div 2 & = 3 & \\cdots 1 \\\\\n",
    "3 \\div 2 & = 1 & \\cdots 1 \\\\ \n",
    "1 \\div 2 & = 0 & \\cdots 1\n",
    "\\end{align*}\n",
    "$$\n",
    "\n",
    "Thus, $124 \\, (decimal = 0111 \\, 1100 \\, (binary) = E$."
   ]
  },
  {
   "cell_type": "code",
   "execution_count": 7,
   "metadata": {
    "cell_style": "split",
    "slideshow": {
     "slide_type": "-"
    }
   },
   "outputs": [
    {
     "name": "stdout",
     "output_type": "stream",
     "text": [
      "S = 0\n",
      "E = 01111100\n",
      "M = 01000000000000000000000\n"
     ]
    }
   ],
   "source": [
    "x = bitstring(Float32(0.15625));\n",
    "println(\"S = \", x[1])\n",
    "println(\"E = \", x[2: 9])\n",
    "println(\"M = \", x[10: end])"
   ]
  },
  {
   "cell_type": "markdown",
   "metadata": {},
   "source": [
    "#### 1.3.1Round-Off Errors"
   ]
  },
  {
   "cell_type": "markdown",
   "metadata": {
    "cell_style": "split",
    "slideshow": {
     "slide_type": "slide"
    }
   },
   "source": [
    "**Finite mantissae introduce errors when truncating real numbers whose binary expansion is longer than $23$ (```Float32```) or $52$ (```Float64```).**\n",
    " \n",
    " *The round-off error is a feature of the hardware and cannot be avoided.*"
   ]
  },
  {
   "cell_type": "code",
   "execution_count": 8,
   "metadata": {
    "cell_style": "split"
   },
   "outputs": [
    {
     "name": "stdout",
     "output_type": "stream",
     "text": [
      "a = 1.0000000000000001e-01, b = 2.0000000000000001e-01, c = 2.9999999999999999e-01"
     ]
    }
   ],
   "source": [
    "using Printf\n",
    "a = Float64(0.1); \n",
    "b = Float64(0.2); \n",
    "c = Float64(0.3);\n",
    "@printf(\"a = %.16e, b = %.16e, c = %.16e\", a, b, c);"
   ]
  },
  {
   "cell_type": "markdown",
   "metadata": {
    "cell_style": "split"
   },
   "source": [
    "Sometimes, round-off errors can lead to counter-intuitive behaviour:"
   ]
  },
  {
   "cell_type": "code",
   "execution_count": 9,
   "metadata": {
    "cell_style": "split"
   },
   "outputs": [
    {
     "name": "stdout",
     "output_type": "stream",
     "text": [
      "a + b == c = false\n"
     ]
    }
   ],
   "source": [
    "@show a + b == c;"
   ]
  },
  {
   "cell_type": "markdown",
   "metadata": {},
   "source": [
    "## 2. Floating Point Arithmetic"
   ]
  },
  {
   "cell_type": "markdown",
   "metadata": {
    "cell_style": "center",
    "slideshow": {
     "slide_type": "slide"
    }
   },
   "source": [
    "**Rules for adding two floating point numbers:**\n",
    "1. **Rewrite the smaller number so its exponent matches that of the larger number.**\n",
    "2. **Add the mantissae.**\n",
    "3. **Normalise the sum.**\n",
    "4. **Round the sum.**"
   ]
  },
  {
   "cell_type": "markdown",
   "metadata": {
    "slideshow": {
     "slide_type": "slide"
    }
   },
   "source": [
    "## 3. Machine precision  "
   ]
  },
  {
   "cell_type": "code",
   "execution_count": 10,
   "metadata": {
    "cell_style": "center"
   },
   "outputs": [
    {
     "name": "stdout",
     "output_type": "stream",
     "text": [
      "a == 1.0 = true\n",
      "b == 0 = false\n",
      "a + b == a = true\n"
     ]
    }
   ],
   "source": [
    "a = Float32(1.0); \n",
    "b = Float32(10.0^(-10));\n",
    "@show a == 1.0;\n",
    "@show b == 0;\n",
    "@show a + b == a;"
   ]
  },
  {
   "cell_type": "markdown",
   "metadata": {},
   "source": [
    "**The machine precision (or machine epsilon) is the smallest floating point number which when added to $1$ gives an answer larger than $1$.**"
   ]
  },
  {
   "cell_type": "markdown",
   "metadata": {
    "slideshow": {
     "slide_type": "slide"
    }
   },
   "source": [
    "In Julia ```eps()``` gives the machine precision:"
   ]
  },
  {
   "cell_type": "code",
   "execution_count": 11,
   "metadata": {},
   "outputs": [
    {
     "name": "stdout",
     "output_type": "stream",
     "text": [
      "eps(Float32) = 1.1920929f-7\n",
      "eps(Float64) = 2.220446049250313e-16\n"
     ]
    }
   ],
   "source": [
    "@show eps(Float32);\n",
    "@show eps(Float64);"
   ]
  },
  {
   "cell_type": "markdown",
   "metadata": {},
   "source": [
    "These values are $2.0^{-23}$ and $2.0^{-52}$, respectively."
   ]
  },
  {
   "cell_type": "markdown",
   "metadata": {},
   "source": [
    "## 3.3 Loss of Significance"
   ]
  },
  {
   "cell_type": "markdown",
   "metadata": {
    "slideshow": {
     "slide_type": "slide"
    }
   },
   "source": [
    "**Subtraction of \"nearby\" numbers leads to [loss of significance](https://en.wikipedia.org/wiki/Loss_of_significance).**\n",
    "\n",
    "Calculate sum and difference of 2 nearby numbers in 32-bit precision:"
   ]
  },
  {
   "cell_type": "code",
   "execution_count": 12,
   "metadata": {},
   "outputs": [
    {
     "name": "stdout",
     "output_type": "stream",
     "text": [
      "32 bit: a = 2.000002, b = 2.0\n",
      "32 bit: sum = 4.000002, difference = 1.9073486e-6\n"
     ]
    }
   ],
   "source": [
    "a32 = Float32(2.0) + Float32(3.0)^-12; b32 = Float32(2.0);\n",
    "sum32 = a32+b32; diff32 = a32 - b32;\n",
    "println(\"32 bit: a = \", a32, \", b = \", b32)\n",
    "println(\"32 bit: sum = \", sum32,\", difference = \", diff32 )"
   ]
  },
  {
   "cell_type": "markdown",
   "metadata": {
    "slideshow": {
     "slide_type": "slide"
    }
   },
   "source": [
    "Now calculate the same sum and difference in 64 bit precision:"
   ]
  },
  {
   "cell_type": "code",
   "execution_count": 13,
   "metadata": {},
   "outputs": [
    {
     "name": "stdout",
     "output_type": "stream",
     "text": [
      "64 bit: a = 2.000001881676423, b = 2.0\n",
      "64 bit: sum = 4.000001881676424, difference = 1.8816764231210925e-6\n"
     ]
    }
   ],
   "source": [
    "a64 = Float64(2.0) + Float64(3.0)^-12; b64 = Float64(2.0);\n",
    "sum64 = a64+b64; diff64 = a64 - b64;\n",
    "println(\"64 bit: a = \", a64, \", b = \", b64)\n",
    "println(\"64 bit: sum = \", sum64,\", difference = \", diff64 )"
   ]
  },
  {
   "cell_type": "markdown",
   "metadata": {
    "slideshow": {
     "slide_type": "slide"
    }
   },
   "source": [
    "We can treat the 64-bit answer as \"exact\" compared to the 32-bit answer and calculate the relative error in the 32-bit result:"
   ]
  },
  {
   "cell_type": "code",
   "execution_count": 14,
   "metadata": {},
   "outputs": [
    {
     "name": "stdout",
     "output_type": "stream",
     "text": [
      "Sum relative error = 6.41804929265656e-9\n",
      "Difference relative error = 0.013643264790885564\n"
     ]
    }
   ],
   "source": [
    "relErrSum = abs(sum64-sum32)/sum64\n",
    "relErrDiff = abs(diff64-diff32)/diff64\n",
    "println(\"Sum relative error = \", relErrSum)\n",
    "println(\"Difference relative error = \", relErrDiff)"
   ]
  },
  {
   "cell_type": "markdown",
   "metadata": {},
   "source": [
    "## 4. Numerical Instability"
   ]
  },
  {
   "cell_type": "markdown",
   "metadata": {
    "slideshow": {
     "slide_type": "slide"
    }
   },
   "source": [
    "**Iterative calculations can lose precision by accumulation of round-off errors**:\n",
    "\n",
    "* Assuming inputs $\\sim 1$, each FP addition introduces an error of $\\sim \\epsilon_m$.\n",
    "* Might expect, after $n$ iterative steps, total error $\\sim \\sqrt{n}\\, \\epsilon_m$? (The process is like random walk, since the error can be either positive or negative.)\n",
    "\n",
    "However, some iterations can produce total error $\\sim e^n$ due to instability."
   ]
  },
  {
   "cell_type": "markdown",
   "metadata": {},
   "source": [
    "### 4.1 A Simple Example"
   ]
  },
  {
   "cell_type": "markdown",
   "metadata": {
    "slideshow": {
     "slide_type": "slide"
    }
   },
   "source": [
    "Consider the following iterative procedures:\n",
    "\n",
    "P1 : $a_{n+1} = \\phi\\,a_n$ with $a_0 = 1$,  \n",
    "\n",
    "P2 : $a_{n+1} = a_{n-1} - a_{n}$ with $a_0 = 1$ and $a_1 = \\phi$,\n",
    "\n",
    "where $\\phi = \\frac{\\sqrt{5}-1}{2}$.\n",
    "\n",
    "Both have the exact solution: \n",
    "$$a_n = \\phi^n.$$"
   ]
  },
  {
   "cell_type": "markdown",
   "metadata": {
    "slideshow": {
     "slide_type": "slide"
    }
   },
   "source": [
    "However their numerical behaviour is very different for large $n$:"
   ]
  },
  {
   "cell_type": "code",
   "execution_count": 15,
   "metadata": {},
   "outputs": [],
   "source": [
    "phi = Float32(0.5*(sqrt(5)-1)); n = 30\n",
    "# Allocate some Float32 arrays\n",
    "P1 = zeros(Float32, n); P2 = zeros(Float32, n);\n",
    "# Set initial conditions\n",
    "P1[1] = P2[1] = Float32(1.); P2[2] = phi;"
   ]
  },
  {
   "cell_type": "code",
   "execution_count": 16,
   "metadata": {},
   "outputs": [],
   "source": [
    "for i in 2:n\n",
    "    P1[i] = phi*P1[i-1]\n",
    "end"
   ]
  },
  {
   "cell_type": "code",
   "execution_count": 17,
   "metadata": {},
   "outputs": [],
   "source": [
    "for i in 3:n\n",
    "    P2[i] = P2[i-2] - P2[i-1]\n",
    "end"
   ]
  },
  {
   "cell_type": "code",
   "execution_count": 18,
   "metadata": {
    "slideshow": {
     "slide_type": "-"
    }
   },
   "outputs": [
    {
     "data": {
      "image/png": "[encoded data removed]"
     },
     "execution_count": 18,
     "metadata": {},
     "output_type": "execute_result"
    }
   ],
   "source": [
    "using Plots\n",
    "using LaTeXStrings\n",
    "pyplot()\n",
    "# Set default fonts for all plots\n",
    "fnt = Plots.font(\"DejaVu Sans\", 8.0)\n",
    "default(titlefont=fnt, guidefont=fnt, tickfont=fnt, legendfont=fnt)\n",
    "\n",
    "plot(1:n, P1, yscale=:log10, label=\"\", linewidth=2, linecolor=:red, xlabel=\"n\", \n",
    "    ylabel=L\"\\left| a_n \\right|\")\n",
    "scatter!(1:n, P1, markercolor=:red, label = \"P1\", markersize=5)\n",
    "plot!(1:n, abs.(P2), label=\"\", linewidth=2, linecolor=:blue)\n",
    "scatter!(1:n, abs.(P2), markercolor=:blue, label = \"P2\", markersize=5)"
   ]
  },
  {
   "cell_type": "markdown",
   "metadata": {
    "slideshow": {
     "slide_type": "slide"
    }
   },
   "source": [
    "What's going on? Due to round-off we have solved a different problem:\n",
    "\n",
    "P2 : $a_{n+1} = a_{n-1} - a_{n}$ with $a_0 = 1$ and $a_1 = \\phi + \\varepsilon$.\n",
    "\n",
    "The solution is\n",
    "$$ a_n = \\left( 1 + \\frac{\\sqrt{5}}{5} \\epsilon \\right) \\phi^n - \\frac{\\sqrt{5}}{5} \\epsilon \\tilde{\\phi}^n,$$\n",
    "where $\\tilde{\\phi} =- \\frac{\\sqrt{5}+1}{2}$.  \n",
    "Notice that $\\left|\\tilde{\\phi}\\right| > 1$. This is an unstable iteration."
   ]
  },
  {
   "cell_type": "markdown",
   "metadata": {},
   "source": [
    "#### 4.1.1 How to Solve A Linear Recurrence Relation"
   ]
  },
  {
   "cell_type": "markdown",
   "metadata": {},
   "source": [
    "Suppose a two-ordered linear recurrence is\n",
    "$$F_n = AF_{n-1} + BF_{n-2},$$\n",
    "where $A$ and $B$ are real constant numbers.\n",
    "\n",
    "The characteristic equation for the above relations is\n",
    "$$x^2 - Ax - B = 0.$$\n",
    "\n",
    "Let $x_1$ and $x_2$ be its solutions.\n",
    "\n",
    "- $x_1, x_2 \\in \\mathbb{R}$ and $x_1 \\neq x_2$:\n",
    "\n",
    "    The general solution to the recurrence is \n",
    "    $$F_n = ax_1^n + bx_2^n,$$ \n",
    "    where $a,b \\in \\mathbb{R}$ are determined by the initial conditions.\n",
    "   \n",
    "- $x_1, x_2 \\in \\mathbb{R}$ and $x_1 = x_2 = x$:\n",
    "\n",
    "    The general solution to the recurrence is \n",
    "    $$F_n = ax^n + bnx^n,$$\n",
    "    where $a,b \\in \\mathbb{R}$ are determined by the initial conditions.\n",
    "    \n",
    "- $x_1, x_2 \\in \\mathbb{C}$ and $x_1 = \\bar{x}_2$:\n",
    "\n",
    "    Write $x_1$ and $x_2$ in their polar forms: suppose \n",
    "    $$\n",
    "    \\begin{cases}\n",
    "        x_1 & = r\\theta \\\\ \n",
    "        x_2 & = -r\\theta \n",
    "    \\end{cases}\n",
    "    $$\n",
    "    Then the general solution is \n",
    "    $$F_n = r^n [a\\cos (n\\theta) + b\\sin (n\\theta)],$$\n",
    "    where $a, b \\in \\mathbb{R}$ are constants determined by the initial conditions."
   ]
  },
  {
   "cell_type": "markdown",
   "metadata": {},
   "source": [
    "#### 4.1.2 Solve the Example Problem"
   ]
  },
  {
   "cell_type": "markdown",
   "metadata": {},
   "source": [
    "The characteristic equation of $a_{n+1} = a_{n-1} - a_n$ is \n",
    "$$x^2 + x - 1 = 0,$$\n",
    "whose solutions are \n",
    "$$\n",
    "\\begin{cases}\n",
    "x_1  = \\frac{-1 + \\sqrt{5}}{2} \\\\ \n",
    "x_2  = \\frac{-1 - \\sqrt{5}}{2} \n",
    "\\end{cases}.\n",
    "$$\n",
    "Thus, the general solution to the recurrence is \n",
    "$$a_n = a \\left( \\frac{-1 + \\sqrt{5}}{2} \\right)^n + b \\left(\\frac{-1 - \\sqrt{5}}{2} \\right)^n.$$\n",
    "By $a_0 = 1$ and $a_1 = \\frac{\\sqrt{5} - 1}{2} + \\epsilon$, we know \n",
    "$$\n",
    "\\begin{cases}\n",
    "a & = 1 + \\frac{\\sqrt{5}}{5} \\epsilon \\\\ \n",
    "b & = - \\frac{\\sqrt{5}}{5} \\epsilon\n",
    "\\end{cases}\n",
    "$$\n",
    "Thus, we have\n",
    "$$\n",
    "\\begin{align*}\n",
    "a_n & = \\left( 1 + \\frac{\\sqrt{5}}{5} \\epsilon \\right) \\left( \\frac{-1 + \\sqrt{5}}{2} \\right)^n - \\frac{\\sqrt{5}}{5}\\epsilon \\left( \\frac{-1 - \\sqrt{5}}{2} \\right)^n \\\\ \n",
    "& = \\left( 1 + \\frac{\\sqrt{5}}{5} \\epsilon \\right) \\phi^n - \\frac{\\sqrt{5}}{5} \\epsilon \\tilde{\\phi}^n\n",
    "\\end{align*}\n",
    "$$"
   ]
  },
  {
   "cell_type": "code",
   "execution_count": null,
   "metadata": {},
   "outputs": [],
   "source": []
  }
 ],
 "metadata": {
  "celltoolbar": "Slideshow",
  "kernelspec": {
   "display_name": "JuliaPro_v1.5.2-1 1.5.2",
   "language": "julia",
   "name": "juliapro_v1.5.2-1-1.5"
  },
  "language_info": {
   "file_extension": ".jl",
   "mimetype": "application/julia",
   "name": "julia",
   "version": "1.5.2"
  }
 },
 "nbformat": 4,
 "nbformat_minor": 2
}
