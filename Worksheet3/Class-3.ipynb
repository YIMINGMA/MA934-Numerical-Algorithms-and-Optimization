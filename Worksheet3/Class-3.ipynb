{
 "cells": [
  {
   "cell_type": "markdown",
   "metadata": {},
   "source": [
    "# MA934  Numerical Methods - class worksheet 3 (not assessed)\n",
    "\n",
    "## Structural recursion and Gillespie algorithm\n",
    "\n",
    "You might need to install some packages the first time you run this notebook:"
   ]
  },
  {
   "cell_type": "code",
   "execution_count": 1,
   "metadata": {},
   "outputs": [],
   "source": [
    "#using Pkg\n",
    "#Pkg.add(\"Plots\")\n",
    "#Pkg.add(\"PyPlot\")\n",
    "#Pkg.add(\"PyCall\")\n",
    "#Pkg.add(\"LaTeXStrings\")"
   ]
  },
  {
   "cell_type": "code",
   "execution_count": 30,
   "metadata": {},
   "outputs": [
    {
     "data": {
      "text/plain": [
       "Plots.PyPlotBackend()"
      ]
     },
     "execution_count": 30,
     "metadata": {},
     "output_type": "execute_result"
    }
   ],
   "source": [
    "using BenchmarkTools\n",
    "using Revise\n",
    "using Plots\n",
    "using LaTeXStrings\n",
    "using DataFrames, GLM\n",
    "using Random\n",
    "Random.seed!(1234)\n",
    "pyplot()\n"
   ]
  },
  {
   "cell_type": "markdown",
   "metadata": {},
   "source": [
    "## Some background on how to use the sample code\n",
    "\n",
    "The custom module MA934.jl defines some useful data structures and some functions that operate on them. You should familiarise yourself with how Julia modules are structured and structure your own code accordingly.\n",
    "\n",
    "The composite type **KeyValuePair** defines a simple data structure to represent an (**Int64**, **Float64**) key-value pair. \n",
    "\n",
    "The recursive type **LinkedList** defines a linked list that stores a **KeyValuePair** at each node. \n",
    "\n",
    "The recursive type **FTree** defines a Fenwick tree that stores a **KeyValuePair** at each leaf node.\n",
    "\n",
    "Many languages have a keyword NULL which can be assigned to an object to indicate that it has not yet been initialised. Julia does not have this feature: accessing an object that has not yet been initialised throws an error. On the other hand, Julia does have a **Nothing** type which represents an object with no fields. This is not quite the same thing however: an object of type **LinkedList**, for example, cannot be assigned a value of type **Nothing**.\n",
    "\n",
    "Recursive data structures often use an uninitialised object to denote the end of a list, a leaf of a tree etc. This is a problem in Julia: if an object is uninitialised you cannot access it to check whether it is initialised without throwing an error. One work around for situations where a value x of type **T** exists only sometimes, the **Union{T, Nothing}** type can be used for function arguments, object fields and array element types. This approach is adopted in the MA934.jl module. More information can be found at https://docs.julialang.org/en/v1/manual/faq/#faq-nothing-1\n",
    "\n",
    "The function \n",
    "\n",
    "> MA934.buildlist(dataArray::Array{KeyValuePair, 1})\n",
    "\n",
    "takes an array of **KeyValuePair** objects as input and returns a **LinkedList** containing these **KeyValuePair**s. The following sample code illustrates how to use the **LinkedList** data type."
   ]
  },
  {
   "cell_type": "code",
   "execution_count": 3,
   "metadata": {},
   "outputs": [
    {
     "name": "stdout",
     "output_type": "stream",
     "text": [
      "LinkedList(KeyValuePair(1, 3.141592), nothing)\n",
      "LinkedList(KeyValuePair(1, 3.141592), LinkedList(KeyValuePair(2, 2.718281), nothing))\n",
      "LinkedList(KeyValuePair(3, 1.414213), LinkedList(KeyValuePair(1, 3.141592), LinkedList(KeyValuePair(2, 2.718281), nothing)))\n",
      "L1 = LinkedList(KeyValuePair(3, 1.414213), LinkedList(KeyValuePair(1, 3.141592), LinkedList(KeyValuePair(2, 2.718281), nothing)))\n",
      "LinkedList(KeyValuePair(1, 0.8245265591728297), LinkedList(KeyValuePair(2, 0.04556817457596818), LinkedList(KeyValuePair(3, 0.5298113602403998), LinkedList(KeyValuePair(4, 0.5823340175914169), LinkedList(KeyValuePair(5, 0.0036592107042903166), nothing)))))\n"
     ]
    }
   ],
   "source": [
    "using Random\n",
    "# To use custom modules, we need to tell Julia where to find the source files. In this case, they are in\n",
    "# the current working directory:\n",
    "push!(LOAD_PATH, pwd())\n",
    "using StructuralRecursion\n",
    "\n",
    "# Create some key-value pairs. The KeyValuePair data type is a struct. Instances of\n",
    "# structs in Julia can be created by assigning values to their fields as follows:\n",
    "k1 = StructuralRecursion.KeyValuePair(1,3.141592)\n",
    "k2 = StructuralRecursion.KeyValuePair(2,2.718281)\n",
    "# The prefix MA934 indicates that the data type KeyValuePair is defined in the module MA934. This\n",
    "# is not necessary however because the module file MA934.jl \"exports\" the definition. Hence we can\n",
    "# also write:\n",
    "k3 = KeyValuePair(3,1.414213)\n",
    "\n",
    "# The LinkedList data type is also a struct. We can create a new instance\n",
    "# simply by assigning appropriate values to its fields as for any\n",
    "# other struct:\n",
    "L1 = LinkedList(k1, Nothing())\n",
    "println(L1)\n",
    "\n",
    "# Key-value pairs can be appended to the list:\n",
    "L1 = StructuralRecursion.append(L1, k2)\n",
    "println(L1)\n",
    "\n",
    "# Key-value pairs can also be prepended to the list:\n",
    "L1 = StructuralRecursion.prepend(L1, k3)\n",
    "println(L1)\n",
    "\n",
    "@show L1\n",
    "# We can also create a list using the build function by passing it an array of key-value pairs:\n",
    "# First we need to create an array. We will use a random number generator to generate random values.\n",
    "\n",
    "# The random number generator is initialised with a seed - 1234 in this case. A random number generator\n",
    "# initialised with the same seed will always produced exactly the same sequence of numbers\n",
    "rng = MersenneTwister(1234);\n",
    "# If you want to generate a different sequence of random numbers every time initialise the random number\n",
    "# generator this way:\n",
    "rng = RandomDevice()\n",
    "# Length of array:\n",
    "n=5\n",
    "# Generate some random numbers\n",
    "X = rand(rng, n)\n",
    "# Define a one dimensional array of uninitialised (the undef keyword) KeyValuePair objects of length n\n",
    "kv = Array{KeyValuePair, 1}(undef, n)\n",
    "# Now assign the entries of the array by creating the required key-value pairs\n",
    "for i in 1:n\n",
    "    kv[i] = KeyValuePair(i,X[i])\n",
    "end\n",
    "\n",
    "# Now we can create a new list by passing the array kv to the build function:\n",
    "L2 = StructuralRecursion.buildlist(kv)\n",
    "println(L2)"
   ]
  },
  {
   "cell_type": "markdown",
   "metadata": {},
   "source": [
    "## Question 1: Linear search using a linked list\n",
    "\n",
    "Now finally some work for you to do:\n",
    "\n",
    "1. Write a *recursive* function <br><br>\n",
    "selectiveprint( L::Union{LinkedList, Nothing}, v::Float64 )<br><br>\n",
    "that traverses the list L and prints any key-value pairs stored in L having a value greater than v. Check that your function works.\n",
    "2. Write a function search(list::**LinkedList**}, k::**Int64**) that searches a **LinkedList** object for the key k and returns the corresponding **KeyValuePair** if it is present and **Nothing** otherwise. Verify that your function works.\n",
    "3. Use BenchmarkTools.jl to measure how the typical computational cost of your search() function grows with the length of the list. "
   ]
  },
  {
   "cell_type": "code",
   "execution_count": 4,
   "metadata": {},
   "outputs": [
    {
     "name": "stdout",
     "output_type": "stream",
     "text": [
      "L1 = LinkedList(KeyValuePair(3, 1.414213), LinkedList(KeyValuePair(1, 3.141592), LinkedList(KeyValuePair(2, 2.718281), nothing)))\n",
      "Values greater than 1\n",
      "1.414213\n",
      "3.141592\n",
      "2.718281\n"
     ]
    }
   ],
   "source": [
    "function selectiveprint(L::Union{LinkedList, Nothing}, v::Float64)\n",
    "    if L != nothing\n",
    "        data = L.data\n",
    "        value = data.value\n",
    "        if value > v\n",
    "            println(value)\n",
    "        end\n",
    "        selectiveprint(L.next, v)\n",
    "    end \n",
    "end\n",
    "\n",
    "@show L1\n",
    "println(\"Values greater than 1\")\n",
    "selectiveprint(L1, 1.)"
   ]
  },
  {
   "cell_type": "code",
   "execution_count": 5,
   "metadata": {},
   "outputs": [
    {
     "name": "stdout",
     "output_type": "stream",
     "text": [
      "L1 = LinkedList(KeyValuePair(3, 1.414213), LinkedList(KeyValuePair(1, 3.141592), LinkedList(KeyValuePair(2, 2.718281), nothing)))\n",
      "Values greater than 2\n",
      "3.141592\n",
      "2.718281\n"
     ]
    }
   ],
   "source": [
    "@show L1\n",
    "println(\"Values greater than 2\")\n",
    "selectiveprint(L1, 2.)"
   ]
  },
  {
   "cell_type": "code",
   "execution_count": 6,
   "metadata": {},
   "outputs": [
    {
     "name": "stdout",
     "output_type": "stream",
     "text": [
      "L1 = LinkedList(KeyValuePair(3, 1.414213), LinkedList(KeyValuePair(1, 3.141592), LinkedList(KeyValuePair(2, 2.718281), nothing)))\n",
      "Values greatr than 3\n",
      "3.141592\n"
     ]
    }
   ],
   "source": [
    "@show L1\n",
    "println(\"Values greatr than 3\")\n",
    "selectiveprint(L1, 3.)"
   ]
  },
  {
   "cell_type": "markdown",
   "metadata": {},
   "source": [
    "## Question 2: Interval membership\n",
    "\n",
    "The problem of interval membership is the following: given a set of contiguous intervals, \n",
    "\n",
    "$\\left\\{[x_0, x_1), [x_1, x_2), \\ldots, [x_{n-2}, x_{n-1}), [x_{n-1}, x_n)\\right\\}$\n",
    "\n",
    "spanning the interval $[x_1, x_n)$ and given a random number $x \\in [x_1, x_n)$, determine the interval in which $x$ lies. The standard numerical algorithm for stochastic simulation of continuous-time Markov processes (eg birth-death process, contact process, SIR model etc) requires solving an interval membership problem at each time step. It is therefore important to be able to solve it efficiently. Note, we cannot assume that all intervals are the same length.\n",
    "\n",
    "We can solve the interval membership problem with $n$ intervals by a variant of linear search in $O(n)$ time. \n",
    "\n",
    "**1)** Use Julia's random number generator to generate $n$ random interval lengths, $y_1, y_2, \\ldots, y_n$ between 0 and 1. \n",
    "The corresponding interval membership problem is constructed from the partial sums:\n",
    "$$x_i = \\sum_{j=1}^i y_j, \\ \\ \\ \\ \\ i=1,2,\\ldots n.$$ \n",
    "Using the **KeyValuePair** and **LinkedList** objects defined in MA934.jl, create an array of key-value pairs, $(i, x_i)$, associating each interval with the corresponding partial sum and store this array in a linked list. Print the list for a small value of $n$ to verify that it works.\n",
    "\n"
   ]
  },
  {
   "cell_type": "code",
   "execution_count": 7,
   "metadata": {},
   "outputs": [
    {
     "name": "stdout",
     "output_type": "stream",
     "text": [
      "random_nums = [0.040817896891157, 0.5373686333531669, 0.27604241768699844, 0.013694207146513593, 0.6724847395101268, 0.5487600812333377, 0.13903810351857127, 0.94087424551923, 0.2640969508347595, 0.07831792221386502]\n",
      "partial_sums = [0.040817896891157, 0.5781865302443239, 0.8542289479313223, 0.8679231550778359, 1.5404078945879627, 2.0891679758213004, 2.2282060793398717, 3.1690803248591015, 3.433177275693861, 3.5114951979077262]\n",
      "sum(random_nums) = 3.5114951979077262\n"
     ]
    }
   ],
   "source": [
    "n = 10\n",
    "random_nums = rand(n)\n",
    "\n",
    "partial_sums = zeros(length(random_nums))\n",
    "current_partial_sum = 0\n",
    "for i in 1: length(partial_sums)\n",
    "    current_partial_sum += random_nums[i]\n",
    "    partial_sums[i] = current_partial_sum\n",
    "end\n",
    "\n",
    "@show random_nums;\n",
    "@show partial_sums;\n",
    "@show sum(random_nums);"
   ]
  },
  {
   "cell_type": "code",
   "execution_count": 8,
   "metadata": {},
   "outputs": [
    {
     "name": "stdout",
     "output_type": "stream",
     "text": [
      "pairs_list = LinkedList(KeyValuePair(1, 0.040817896891157), LinkedList(KeyValuePair(2, 0.5781865302443239), LinkedList(KeyValuePair(3, 0.8542289479313223), LinkedList(KeyValuePair(4, 0.8679231550778359), LinkedList(KeyValuePair(5, 1.5404078945879627), LinkedList(KeyValuePair(6, 2.0891679758213004), LinkedList(KeyValuePair(7, 2.2282060793398717), LinkedList(KeyValuePair(8, 3.1690803248591015), LinkedList(KeyValuePair(9, 3.433177275693861), LinkedList(KeyValuePair(10, 3.5114951979077262), nothing))))))))))\n"
     ]
    }
   ],
   "source": [
    " # Initialize pair_list with the type KeyValuePair and length \n",
    "pairs_arr = Array{KeyValuePair, 1}(undef, length(partial_sums))\n",
    "\n",
    "for i in 1: length(partial_sums)\n",
    "    key = i\n",
    "    val = partial_sums[i]\n",
    "    pairs_arr[i] = KeyValuePair(key, val)\n",
    "end\n",
    "\n",
    "pairs_list = buildlist(pairs_arr);\n",
    "@show pairs_list;"
   ]
  },
  {
   "cell_type": "markdown",
   "metadata": {},
   "source": [
    "**2)** Modify the search function you wrote above to write a recursive function <br><br>\n",
    "```intervalmembership( L::Union{LinkedList, Nothing}, x::Float64)```<br><br>\n",
    "that takes the **LinkedList**, L, containing the list of partial sums and a random **Float64** in the range $[0, x_n]$ as inputs and returns the **KeyValuePair** corresponding to the interval in which $x$ lies. Verify that it works for small values of $n$ and use BenchmarkTools.jl to measure how the typical computational cost grows with $n$. \n",
    "\n"
   ]
  },
  {
   "cell_type": "code",
   "execution_count": 9,
   "metadata": {},
   "outputs": [
    {
     "data": {
      "text/plain": [
       "intervalmembership (generic function with 1 method)"
      ]
     },
     "execution_count": 9,
     "metadata": {},
     "output_type": "execute_result"
    }
   ],
   "source": [
    "function intervalmembership(L::Union{LinkedList, Nothing} , x::Float64)\n",
    "    if L != nothing\n",
    "        data = L.data\n",
    "        key = data.key\n",
    "        val = data.value\n",
    "        if x > val\n",
    "            return intervalmembership(L.next, x)\n",
    "        else\n",
    "            return key\n",
    "        end\n",
    "    else\n",
    "        return 0\n",
    "    end\n",
    "end"
   ]
  },
  {
   "cell_type": "code",
   "execution_count": 10,
   "metadata": {},
   "outputs": [],
   "source": [
    "max_size = 100\n",
    "benchmarks_random = zeros(max_size)\n",
    "\n",
    "for n in 1: max_size\n",
    "    random_nums = rand(n)\n",
    "    partial_sums = zeros(length(random_nums))\n",
    "    current_partial_sum = 0\n",
    "    for i in 1: length(partial_sums)\n",
    "        current_partial_sum += random_nums[i]\n",
    "        partial_sums[i] = current_partial_sum\n",
    "    end\n",
    "    \n",
    "    pairs_arr = Array{KeyValuePair, 1}(undef, length(partial_sums))\n",
    "    for i in 1: length(partial_sums)\n",
    "        key = i\n",
    "        val = partial_sums[i]\n",
    "        pairs_arr[i] = KeyValuePair(key, val)\n",
    "    end\n",
    "    pairs_list = buildlist(pairs_arr)\n",
    "    \n",
    "    test_num = rand() * partial_sums[end]\n",
    "    \n",
    "    bm = @benchmark intervalmembership($pairs_list, $test_num)\n",
    "    benchmarks_random[n] = median(bm.times)\n",
    "end"
   ]
  },
  {
   "cell_type": "code",
   "execution_count": 11,
   "metadata": {},
   "outputs": [
    {
     "data": {
      "image/png": "[encoded data removed]"
     },
     "execution_count": 11,
     "metadata": {},
     "output_type": "execute_result"
    }
   ],
   "source": [
    "plot(1:max_size, benchmarks_random, xlabel=L\"n\", ylabel=\"Benchmark\", label=\"\", \n",
    "    xscale=:log10, yscale=:log10)"
   ]
  },
  {
   "cell_type": "markdown",
   "metadata": {},
   "source": [
    "It's hard to tell how the computational cost grows with $n$ from the above figure, because we chose ```test_num``` randomly. Now let's fix it, say to the last element and the middle one of the linked list, to represent the worst case and the general case, respectively."
   ]
  },
  {
   "cell_type": "code",
   "execution_count": 12,
   "metadata": {},
   "outputs": [],
   "source": [
    "max_size = 100\n",
    "benchmarks_middle = zeros(max_size)\n",
    "\n",
    "for n in 1: max_size\n",
    "    random_nums = rand(n)\n",
    "    partial_sums = zeros(length(random_nums))\n",
    "    current_partial_sum = 0\n",
    "    for i in 1: length(partial_sums)\n",
    "        current_partial_sum += random_nums[i]\n",
    "        partial_sums[i] = current_partial_sum\n",
    "    end\n",
    "    \n",
    "    pairs_arr = Array{KeyValuePair, 1}(undef, length(partial_sums))\n",
    "    for i in 1: length(partial_sums)\n",
    "        key = i\n",
    "        val = partial_sums[i]\n",
    "        pairs_arr[i] = KeyValuePair(key, val)\n",
    "    end\n",
    "    pairs_list = buildlist(pairs_arr)\n",
    "    \n",
    "    if length(partial_sums) % 2 == 0\n",
    "        test_num =  partial_sums[length(partial_sums)÷2]\n",
    "    else\n",
    "        test_num =  partial_sums[(length(partial_sums)÷2)+1]\n",
    "    end\n",
    "    \n",
    "    bm = @benchmark intervalmembership($pairs_list, $test_num)\n",
    "    benchmarks_middle[n] = median(bm.times)\n",
    "end"
   ]
  },
  {
   "cell_type": "code",
   "execution_count": 13,
   "metadata": {
    "scrolled": true
   },
   "outputs": [
    {
     "data": {
      "image/png": "[encoded data removed]"
     },
     "execution_count": 13,
     "metadata": {},
     "output_type": "execute_result"
    }
   ],
   "source": [
    "plot(1:max_size, benchmarks_middle, xlabel=L\"n\", ylabel=\"Benchmark\", label=\"\", \n",
    "    xscale=:log10, yscale=:log10)"
   ]
  },
  {
   "cell_type": "code",
   "execution_count": 14,
   "metadata": {},
   "outputs": [
    {
     "data": {
      "text/plain": [
       "1.31716686709237"
      ]
     },
     "execution_count": 14,
     "metadata": {},
     "output_type": "execute_result"
    }
   ],
   "source": [
    "logn = log.(1: max_size)\n",
    "log_benchmarks_middle = log.(benchmarks_middle)\n",
    "\n",
    "data = DataFrame(X=logn, Y=log_benchmarks_middle)\n",
    "ols = lm(@formula(Y ~ X), data)\n",
    "order = coef(ols)[2]"
   ]
  },
  {
   "cell_type": "markdown",
   "metadata": {},
   "source": [
    "Thus, it is believed that the general computational cost is $O(n^{1.32})$."
   ]
  },
  {
   "cell_type": "code",
   "execution_count": 15,
   "metadata": {},
   "outputs": [],
   "source": [
    "max_size = 100\n",
    "benchmarks_last = zeros(max_size)\n",
    "\n",
    "for n in 1: max_size\n",
    "    random_nums = rand(n)\n",
    "    partial_sums = zeros(length(random_nums))\n",
    "    current_partial_sum = 0\n",
    "    for i in 1: length(partial_sums)\n",
    "        current_partial_sum += random_nums[i]\n",
    "        partial_sums[i] = current_partial_sum\n",
    "    end\n",
    "    \n",
    "    pairs_arr = Array{KeyValuePair, 1}(undef, length(partial_sums))\n",
    "    for i in 1: length(partial_sums)\n",
    "        key = i\n",
    "        val = partial_sums[i]\n",
    "        pairs_arr[i] = KeyValuePair(key, val)\n",
    "    end\n",
    "    pairs_list = buildlist(pairs_arr)\n",
    "    \n",
    "    test_num = partial_sums[end]\n",
    "    \n",
    "    bm = @benchmark intervalmembership($pairs_list, $test_num)\n",
    "    benchmarks_last[n] = median(bm.times)\n",
    "end"
   ]
  },
  {
   "cell_type": "code",
   "execution_count": 16,
   "metadata": {},
   "outputs": [
    {
     "data": {
      "image/png": "[encoded data removed]"
     },
     "execution_count": 16,
     "metadata": {},
     "output_type": "execute_result"
    }
   ],
   "source": [
    "plot(1:max_size, benchmarks_last, xlabel=L\"n\", ylabel=\"Benchmark\", label=\"\", \n",
    "    xscale=:log10, yscale=:log10)"
   ]
  },
  {
   "cell_type": "code",
   "execution_count": 17,
   "metadata": {},
   "outputs": [
    {
     "data": {
      "text/plain": [
       "1.3821680360853135"
      ]
     },
     "execution_count": 17,
     "metadata": {},
     "output_type": "execute_result"
    }
   ],
   "source": [
    "logn = log.(1: max_size)\n",
    "log_benchmarks_last = log.(benchmarks_last)\n",
    "\n",
    "data = DataFrame(X=logn, Y=log_benchmarks_last)\n",
    "ols = lm(@formula(Y ~ X), data)\n",
    "order = coef(ols)[2]"
   ]
  },
  {
   "cell_type": "markdown",
   "metadata": {},
   "source": [
    "As for the worst case, the computational cost is $O(n^{1.38})$."
   ]
  },
  {
   "cell_type": "markdown",
   "metadata": {},
   "source": [
    "**3)** The file FenwickTree.jl defines a data structure implementing a variant of a Fenwick tree that can solve the interval membership problem as described in the lectures/notes. The function <br><br> \n",
    "buildFTree( dataArray::Array{KeyValuePair, 1} )<br><br>\n",
    "takes the array of **KeyValuePair**s containing the *interval lengths* (**not** the partial sums) as input, recursively constructs the tree and returns the **FenwickTree** containing the correct key-value pairs (note a key of -1 is assigned to all non-leaf nodes). Here is an example:"
   ]
  },
  {
   "cell_type": "markdown",
   "metadata": {},
   "source": [
    "```julia\n",
    "T = buildFTree(kv)\n",
    "```"
   ]
  },
  {
   "cell_type": "markdown",
   "metadata": {},
   "source": [
    "Write a recursive function\n",
    "\n",
    "```julia\n",
    "intervalmembership(T::Union{FenwickTree, Nothing}, x::Float64)\n",
    "```\n",
    "\n",
    "that takes the **FenwickTree** containing the list of partial sums and a random Float64 in the range $[0, x_n]$ as \n",
    "inputs and returns the **KeyValueVPair** corresponding to the interval in which $x$ lies. Verify that it works for small values of $n$ and use the BenchmarkTools macros to compare how the typical computational compares to the above linear search version. Note it can sometimes be difficult to directly measure $O(\\log\\, n)$ growth in computation time since the problem size needs to become very large to register appreciable run times."
   ]
  },
  {
   "cell_type": "code",
   "execution_count": 18,
   "metadata": {},
   "outputs": [
    {
     "data": {
      "text/plain": [
       "FenwickTree(KeyValuePair(-1, 6.052073171017466), FenwickTree(KeyValuePair(-1, 4.163491629957181), FenwickTree(KeyValuePair(-1, 1.6582179272262867), FenwickTree(KeyValuePair(1, 0.9449185120221619), nothing, nothing), FenwickTree(KeyValuePair(2, 0.7132994152041248), nothing, nothing)), FenwickTree(KeyValuePair(-1, 2.505273702730894), FenwickTree(KeyValuePair(3, 0.9571760419394315), nothing, nothing), FenwickTree(KeyValuePair(-1, 1.5480976607914623), FenwickTree(KeyValuePair(4, 0.6063184223947207), nothing, nothing), FenwickTree(KeyValuePair(5, 0.9417792383967416), nothing, nothing)))), FenwickTree(KeyValuePair(-1, 1.888581541060285), FenwickTree(KeyValuePair(-1, 0.868085267443391), FenwickTree(KeyValuePair(6, 0.39039182618177026), nothing, nothing), FenwickTree(KeyValuePair(7, 0.4776934412616207), nothing, nothing)), FenwickTree(KeyValuePair(-1, 1.020496273616894), FenwickTree(KeyValuePair(8, 0.6667327692274068), nothing, nothing), FenwickTree(KeyValuePair(-1, 0.35376350438948734), FenwickTree(KeyValuePair(9, 0.015042875669984745), nothing, nothing), FenwickTree(KeyValuePair(10, 0.3387206287195026), nothing, nothing)))))"
      ]
     },
     "execution_count": 18,
     "metadata": {},
     "output_type": "execute_result"
    }
   ],
   "source": [
    "max_size = 10\n",
    "pairs_arr = Array{KeyValuePair, 1}(undef, max_size)\n",
    "for n in 1: max_size\n",
    "    random_num = rand( )\n",
    "    pair = KeyValuePair(n, random_num)\n",
    "    pairs_arr[n] = pair\n",
    "end\n",
    "\n",
    "T = buildFTree(pairs_arr)"
   ]
  },
  {
   "cell_type": "code",
   "execution_count": 19,
   "metadata": {},
   "outputs": [
    {
     "data": {
      "text/plain": [
       "intervalmembership (generic function with 2 methods)"
      ]
     },
     "execution_count": 19,
     "metadata": {},
     "output_type": "execute_result"
    }
   ],
   "source": [
    "function intervalmembership(T::Union{FenwickTree, Nothing}, x::Float64)\n",
    "    if T.data.key != -1\n",
    "        return T.data.key\n",
    "    else\n",
    "        if T.data.value ≥ x\n",
    "            return intervalmembership(T.left, x)\n",
    "        else\n",
    "            return intervalmembership(T.right, x-T.left.data.value)\n",
    "        end\n",
    "    end\n",
    "end"
   ]
  },
  {
   "cell_type": "code",
   "execution_count": 20,
   "metadata": {},
   "outputs": [
    {
     "name": "stdout",
     "output_type": "stream",
     "text": [
      "partial_sums = [0.9449185120221619, 1.6582179272262867, 2.6153939691657184, 3.2217123915604393, 4.163491629957181, 4.553883456138951, 5.031576897400572, 5.698309666627979, 5.713352542297963, 6.052073171017466]\n",
      "random_num = 0.4610901734991466\n",
      "intervalmembership(T, random_num) = 1\n"
     ]
    }
   ],
   "source": [
    "random_num = rand()\n",
    "partial_sums = zeros(max_size)\n",
    "partial_sums[1] = pairs_arr[1].value\n",
    "for n in 2: max_size\n",
    "    partial_sums[n] = partial_sums[n-1] + pairs_arr[n].value\n",
    "end\n",
    "\n",
    "\n",
    "@show partial_sums;\n",
    "@show random_num;\n",
    "@show intervalmembership(T, random_num);"
   ]
  },
  {
   "cell_type": "markdown",
   "metadata": {},
   "source": [
    "Now, let's compare the performance of the tow functions, but the names of them are the same. Thus, we need to rename them."
   ]
  },
  {
   "cell_type": "code",
   "execution_count": 21,
   "metadata": {},
   "outputs": [
    {
     "data": {
      "text/plain": [
       "T_intervalmembership (generic function with 1 method)"
      ]
     },
     "execution_count": 21,
     "metadata": {},
     "output_type": "execute_result"
    }
   ],
   "source": [
    "function L_intervalmembership(L::Union{LinkedList, Nothing} , x::Float64)\n",
    "    if L != nothing\n",
    "        data = L.data\n",
    "        key = data.key\n",
    "        val = data.value\n",
    "        if x > val\n",
    "            return intervalmembership(L.next, x)\n",
    "        else\n",
    "            return key\n",
    "        end\n",
    "    else\n",
    "        return 0\n",
    "    end\n",
    "end\n",
    "\n",
    "function T_intervalmembership(T::Union{FenwickTree, Nothing}, x::Float64)\n",
    "    if T.data.key != -1\n",
    "        return T.data.key\n",
    "    else\n",
    "        if T.data.value ≥ x\n",
    "            return intervalmembership(T.left, x)\n",
    "        else\n",
    "            return intervalmembership(T.right, x-T.left.data.value)\n",
    "        end\n",
    "    end\n",
    "end"
   ]
  },
  {
   "cell_type": "markdown",
   "metadata": {},
   "source": [
    "Setting the objective value to be the one in the middle is fair enough. "
   ]
  },
  {
   "cell_type": "code",
   "execution_count": 26,
   "metadata": {},
   "outputs": [],
   "source": [
    "max_size = 100\n",
    "benchmarks_L = zeros(max_size)\n",
    "benchmarks_T = zeros(max_size)\n",
    "\n",
    "for n in 1: max_size\n",
    "    random_nums = rand(n)\n",
    "    nums_arr = Array{KeyValuePair, 1}(undef, length(random_nums))\n",
    "    \n",
    "    partial_sums = zeros(length(random_nums))\n",
    "    current_partial_sum = 0\n",
    "    for i in 1: length(partial_sums)\n",
    "        nums_arr[i] = KeyValuePair(i, random_nums[i])\n",
    "        current_partial_sum += random_nums[i]\n",
    "        partial_sums[i] = current_partial_sum\n",
    "    end\n",
    "    T = buildFTree(nums_arr)\n",
    "    \n",
    "    sums_arr = Array{KeyValuePair, 1}(undef, length(partial_sums))\n",
    "    for i in 1: length(partial_sums)\n",
    "        key = i\n",
    "        val = partial_sums[i]\n",
    "        sums_arr[i] = KeyValuePair(key, val)\n",
    "    end\n",
    "    L = buildlist(sums_arr)\n",
    "    \n",
    "    if length(partial_sums) % 2 == 0\n",
    "        test_num =  partial_sums[length(partial_sums)÷2]\n",
    "    else\n",
    "        test_num =  partial_sums[(length(partial_sums)÷2)+1]\n",
    "    end\n",
    "    \n",
    "    bm1 = @benchmark T_intervalmembership($T, $test_num)\n",
    "    benchmarks_T[n] = median(bm1.times)\n",
    "    bm2 = @benchmark L_intervalmembership($L, $test_num)\n",
    "    benchmarks_L[n] = median(bm2.times)\n",
    "end"
   ]
  },
  {
   "cell_type": "code",
   "execution_count": 29,
   "metadata": {},
   "outputs": [
    {
     "data": {
      "image/png": "[encoded data removed]"
     },
     "execution_count": 29,
     "metadata": {},
     "output_type": "execute_result"
    }
   ],
   "source": [
    "plot(1: max_size, benchmarks_T, xlabel=L\"n\", ylabel=\"Benchmarks\", xscale=:log10, \n",
    "    yscale=:log10, label=\"Tree\")\n",
    "plot!(1: max_size, benchmarks_L, label=\"LinkedList\")"
   ]
  },
  {
   "cell_type": "markdown",
   "metadata": {},
   "source": [
    "## Question 3: Gillespie algorithm for heterogeneous diffusion\n",
    "\n",
    "The Gillespie algorithm is a dynamic Monte Carlo algorithm that generates statistically correct realisations of a continous time Markov process. See https://en.wikipedia.org/wiki/Gillespie_algorithm It is used heavily in stochastic simulation of chemical and biological reaction networks and population dynamics. In this question we use it to simulate one-dimensional diffusion of heterogeneous particles whose diffusion constants are independently drawn from an exponential distribution.\n",
    "\n",
    "The basic idea of the algorithm is as follows\n",
    "1. Create a list $\\left\\{(i, r_i), i=1,\\ldots M\\right\\}$,  of all possible transitions (events), $i$, that can occur in the system and the corresponding transition rates, $r_i$.\n",
    "2. Calculate the total rate\n",
    "$$R = \\sum_{i=1}^M r_i$$\n",
    "and divide the interval $[0, R]$ into $M$ intervals whose lengths are given by the $r_i$.\n",
    "3. Generate a uniform random number in the range $[0,R]$ and determine which interval it falls in. \n",
    "4. Perform the corresponding transition and update the time variable by an amount $\\Delta t = 1/R$.\n",
    "5. Repeat until the desired simulation time is reached.\n",
    "\n",
    "To be concrete, suppose with have $N$ particles on the interval $[-L, L]$ initially located at $x=0$. Each particle can hop a distance $\\Delta x$ to the left or to the right with equal probability. The rate of hopping is initially considered to be the same for all particles:\n",
    "\n",
    "$$ r_i = \\frac{D}{2}\\,\\frac{1}{(\\Delta x)^2} $$\n",
    "\n",
    "This choice ensures that in the continous limit ($\\Delta x \\to 0$, $N\\to \\infty$), the density of particles $c(x,t)$ on the line will satisfy the usual diffusion equation with diffusion coefficient $D$ (recall MA933):\n",
    "\n",
    "$$ \\frac{\\partial c}{\\partial t} = D \\frac{\\partial^2 c}{\\partial x^2}$$\n",
    "\n",
    "with initial condition $c(x,0) = \\delta(x)$.\n",
    "\n",
    "The steps of the algorithm then correspond to the following:\n",
    "1. There are $M= 2 N$ possible transitions at each step: each of $N$ particles can hop a distance $\\Delta x$ either left or right with the above rates. We index them as follows: events k=1:N correspond to particle k hopping to the right, events k=N+1:2N correspond to particle k-N hopping to the left.\n",
    "2. The total rate is \n",
    "$$ R = \\frac{D N}{(\\Delta x)^2}.$$\n",
    "3. Generate a uniform random number in the range $[0,R]$ and determine the index $k$ of particle to move and the direction.\n",
    "4. Update the position of particle $k$ accordingly.\n",
    "5. Repeat.\n",
    "\n",
    "The following piece of code implements the Gillespie algorithm for N=100, L=10, $\\Delta x = 0.1$ and $D=1$, converts the particle positions to particle density and compares to the solution of the diffusion equation on an unbounded domain at t=1 (we assume that L=10 is far enough from zero to be considered unbounded):\n",
    "\n",
    "$$c(x, t) = \\frac{1}{\\sqrt{2 \\pi D t}}\\, \\exp [-\\frac{1}{2}\\frac{x^2}{D t} ]$$"
   ]
  },
  {
   "cell_type": "code",
   "execution_count": 23,
   "metadata": {},
   "outputs": [
    {
     "data": {
      "image/png": "[encoded data removed]"
     },
     "execution_count": 23,
     "metadata": {},
     "output_type": "execute_result"
    }
   ],
   "source": [
    "L=10.0\n",
    "N=100\n",
    "Nx = 201\n",
    "dx = 2.0*L/(Nx-1)\n",
    "X = dx.*(-(Nx-1)/2:(Nx-1)/2)\n",
    "Y =zeros(Int64,N)\n",
    "D = 1.0\n",
    "t=0.0\n",
    "\n",
    "\n",
    "r = (D/2.0)/(dx*dx)\n",
    "totalRate = 2.0*N*r\n",
    "dt = 1.0/totalRate\n",
    "T=1.0\n",
    "\n",
    "# This is the main loop\n",
    "while t < T\n",
    "    # Pick an event\n",
    "    k = rand(1:2*N)\n",
    "    if k<=N\n",
    "        hop = 1\n",
    "        particleId = k\n",
    "    else\n",
    "        hop = -1\n",
    "        particleId=k-N\n",
    "    end\n",
    "    Y[particleId]+=hop\n",
    "    t+=dt\n",
    "end\n",
    "\n",
    "# Calculate the estimated density of particles\n",
    "P =zeros(Float64,length(X))\n",
    "for i in 1:length(Y)\n",
    "    P[Y[i]+Int64((Nx-1)/2)+1]+=1/(N * dx)\n",
    "end\n",
    "\n",
    "# Calculate the theoretical density and compare\n",
    "function normal(x, D, t)\n",
    "    return (1.0/sqrt(2.0*pi*D*t))*exp(-x*x/(2*D*t))\n",
    "end\n",
    "P1 = normal.(X, D, T)\n",
    "plot(X, P1, label=\"Analytic solution of diffusion equation\")\n",
    "plot!(X, P, label=\"Numerical estimate of particle density\")\n",
    "xlabel!(\"x\")\n",
    "ylabel!(\"Particle density, c(x,t)\")\n",
    "title!(\"Stochastic simulation of simple diffusion in 1-D\")"
   ]
  },
  {
   "cell_type": "markdown",
   "metadata": {},
   "source": [
    "**1)** The code above makes critical use of the fact that all intervals have the same width in order to decide which particle to move at each step. Suppose now that instead of being equal to $D$ for each particle, the diffusion coefficients are drawn from an exponential distribution with mean $D$:\n",
    "\n",
    "$$ P(x) = \\frac{1}{D} \\exp\\left(-\\frac{x}{D}\\right). $$\n",
    "\n",
    "Modify the code to account for this, using your code from Q2 above to solve the interval membership problem using linear search. You will need to use Julia's randexp() function to generate values for the diffusion coefficients. What is the largest value of $N$ you can simulate in a \"reasonable\" time?"
   ]
  },
  {
   "cell_type": "code",
   "execution_count": null,
   "metadata": {},
   "outputs": [],
   "source": [
    "L=10.0\n",
    "N=100\n",
    "Nx = 201\n",
    "dx = 2.0*L/(Nx-1)\n",
    "X = dx.*(-(Nx-1)/2:(Nx-1)/2)\n",
    "Y =zeros(Int64,N)\n",
    "D = 1.0\n",
    "t=0.0\n",
    "\n",
    "\n",
    "r = (D/2.0)/(dx*dx)\n",
    "totalRate = 2.0*N*r\n",
    "dt = 1.0/totalRate\n",
    "T=1.0\n",
    "\n",
    "# This is the main loop\n",
    "while t < T\n",
    "    # Pick an event\n",
    "    k = rand(1:2*N)\n",
    "    if k<=N\n",
    "        hop = 1\n",
    "        particleId = k\n",
    "    else\n",
    "        hop = -1\n",
    "        particleId=k-N\n",
    "    end\n",
    "    Y[particleId]+=hop\n",
    "    t+=dt\n",
    "end\n",
    "\n",
    "# Calculate the estimated density of particles\n",
    "P =zeros(Float64,length(X))\n",
    "for i in 1:length(Y)\n",
    "    P[Y[i]+Int64((Nx-1)/2)+1]+=1/(N * dx)\n",
    "end\n",
    "\n",
    "# Calculate the theoretical density and compare\n",
    "function normal(x, D, t)\n",
    "    return (1.0/sqrt(2.0*pi*D*t))*exp(-x*x/(2*D*t))\n",
    "end\n",
    "P1 = normal.(X, D, T)\n",
    "plot(X, P1, label=\"Analytic solution of diffusion equation\")\n",
    "plot!(X, P, label=\"Numerical estimate of particle density\")\n",
    "xlabel!(\"x\")\n",
    "ylabel!(\"Particle density, c(x,t)\")\n",
    "title!(\"Stochastic simulation of simple diffusion in 1-D\")"
   ]
  },
  {
   "cell_type": "markdown",
   "metadata": {},
   "source": [
    "**2)** Try again using your Fenwick tree from Q2 to solve the interval membership problem and compare. What is the largest value of $N$ you can simulate now?\n",
    "\n"
   ]
  },
  {
   "cell_type": "code",
   "execution_count": null,
   "metadata": {},
   "outputs": [],
   "source": []
  },
  {
   "cell_type": "markdown",
   "metadata": {},
   "source": [
    "**3)** Show analytically that the solution of the heterogenous diffusion problem is\n",
    "\n",
    "$$ c(x,t) = \\frac{\\exp \\left(-\\sqrt{\\frac{2}{D\\,t}}\\, |x| \\right)}{\\sqrt{2\\, D\\, t}}$$\n",
    "\n",
    "You will probably need the integral formula (Formula 3.325 of Gradshteyn and Rizhik, 7th Ed.)\n",
    "\n",
    "$$ \\int_0^\\infty \\exp\\left(-a\\,x^2 - \\frac{b}{x^2} \\right)\\, dx =  \\frac{1}{2}\\,\\sqrt{\\frac{\\pi}{a}}\\,\\exp\\left(-2 \\sqrt{a\\,b} \\right).$$\n",
    "Use this formula to validate your numerical results.\n",
    "\n"
   ]
  },
  {
   "cell_type": "code",
   "execution_count": null,
   "metadata": {},
   "outputs": [],
   "source": []
  },
  {
   "cell_type": "code",
   "execution_count": null,
   "metadata": {},
   "outputs": [],
   "source": []
  },
  {
   "cell_type": "code",
   "execution_count": null,
   "metadata": {},
   "outputs": [],
   "source": []
  },
  {
   "cell_type": "code",
   "execution_count": null,
   "metadata": {},
   "outputs": [],
   "source": []
  }
 ],
 "metadata": {
  "kernelspec": {
   "display_name": "JuliaPro_v1.5.2-1 1.5.2",
   "language": "julia",
   "name": "juliapro_v1.5.2-1-1.5"
  },
  "language_info": {
   "file_extension": ".jl",
   "mimetype": "application/julia",
   "name": "julia",
   "version": "1.5.2"
  }
 },
 "nbformat": 4,
 "nbformat_minor": 1
}
