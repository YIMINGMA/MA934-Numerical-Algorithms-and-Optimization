{
 "cells": [
  {
   "cell_type": "markdown",
   "metadata": {
    "slideshow": {
     "slide_type": "slide"
    }
   },
   "source": [
    "# Recursive Functions and Sorting Algorithms"
   ]
  },
  {
   "cell_type": "markdown",
   "metadata": {},
   "source": [
    "## 1. Iteration versus Recursion"
   ]
  },
  {
   "cell_type": "markdown",
   "metadata": {
    "slideshow": {
     "slide_type": "slide"
    }
   },
   "source": [
    "**An iterative function is one that loops to repeat some part of the code.** \n",
    "\n",
    "**A recursive function is one that calls itself again to repeat the code.**\n",
    "\n",
    "- *Recursive functions are a natural framework for implementing divide-and-conquer algorithms.*"
   ]
  },
  {
   "cell_type": "markdown",
   "metadata": {},
   "source": [
    "### 1.1 Anatomy of Recursive Functions"
   ]
  },
  {
   "cell_type": "markdown",
   "metadata": {
    "cell_style": "split",
    "slideshow": {
     "slide_type": "slide"
    }
   },
   "source": [
    "- Every recursive function consists of:\n",
    "    - one or more **recursive cases: inputs for which the function calls itself**;\n",
    "    - one or more **base cases: inputs for which the function returns a (usually simple) value.**"
   ]
  },
  {
   "cell_type": "markdown",
   "metadata": {},
   "source": [
    "The function below demonstrates how to calculate $n!$ in an recursive way, although you can use ```factorial( )``` instead."
   ]
  },
  {
   "cell_type": "code",
   "execution_count": 1,
   "metadata": {
    "cell_style": "split"
   },
   "outputs": [
    {
     "data": {
      "text/plain": [
       "f (generic function with 1 method)"
      ]
     },
     "execution_count": 1,
     "metadata": {},
     "output_type": "execute_result"
    }
   ],
   "source": [
    "function f(n)\n",
    "    if n==1\n",
    "        return 1\n",
    "    else\n",
    "        return n*f(n-1)\n",
    "    end\n",
    "end"
   ]
  },
  {
   "cell_type": "code",
   "execution_count": 2,
   "metadata": {
    "cell_style": "split"
   },
   "outputs": [
    {
     "name": "stdout",
     "output_type": "stream",
     "text": [
      "[1, 2, 6, 24, 120, 720, 5040, 40320, 362880, 3628800]"
     ]
    }
   ],
   "source": [
    "print([f(n) for n in 1:10])"
   ]
  },
  {
   "cell_type": "code",
   "execution_count": 3,
   "metadata": {},
   "outputs": [
    {
     "name": "stdout",
     "output_type": "stream",
     "text": [
      "[1, 2, 6, 24, 120, 720, 5040, 40320, 362880, 3628800]"
     ]
    }
   ],
   "source": [
    "print([factorial(n) for n in 1:10])"
   ]
  },
  {
   "cell_type": "markdown",
   "metadata": {
    "cell_style": "split"
   },
   "source": [
    "*Recursive function calls incur additional computational overheads.*"
   ]
  },
  {
   "cell_type": "markdown",
   "metadata": {},
   "source": [
    "#### 1.1.1 Overheads: Call Stack and Recursion Depth"
   ]
  },
  {
   "cell_type": "markdown",
   "metadata": {
    "cell_style": "split",
    "slideshow": {
     "slide_type": "slide"
    }
   },
   "source": [
    "$$\n",
    "\\begin{align}\n",
    "f(4) &= 4 \\times f(3)\\\\  \n",
    "     &= 4\\times(3\\times(f(2))\\\\  \n",
    "     &= 4\\times(3\\times(2\\times f(1))\\\\  \n",
    "     &= 4\\times(3\\times(2\\times(1\\times f(0))))\\\\  \n",
    "     &= 4\\times(3\\times(2\\times(1\\times1)))\\\\\n",
    "     &= 4\\times(3\\times(2\\times1))\\\\  \n",
    "     &= 4\\times(3\\times2)\\\\  \n",
    "     &= 4\\times6 \\\\\n",
    "     &= 24.  \n",
    "\\end{align}\n",
    "$$"
   ]
  },
  {
   "cell_type": "markdown",
   "metadata": {
    "cell_style": "split"
   },
   "source": [
    "- *Variables and information associated with each call stored on the **call stack** until base case is reached.*\n",
    "- **Recursion depth: maximum size of the call stack.**\n",
    "- *Infinite (or excessive) recursion depth leads to **stack overflow**.*"
   ]
  },
  {
   "cell_type": "markdown",
   "metadata": {},
   "source": [
    "### 1.2 Example : Iterative Calculation of the Fibonacci Sequence"
   ]
  },
  {
   "cell_type": "markdown",
   "metadata": {
    "cell_style": "split",
    "slideshow": {
     "slide_type": "slide"
    }
   },
   "source": [
    "The Fibonacci numbers are defined by the recursion:\n",
    "\n",
    "$$F_n = F_{n-1} + F_{n-2}$$ \n",
    "\n",
    "with $F_1 = 0$, $F_2 = 1$.\n",
    "\n",
    "Obvious approach by iteration:\n"
   ]
  },
  {
   "cell_type": "code",
   "execution_count": 4,
   "metadata": {
    "cell_style": "split"
   },
   "outputs": [
    {
     "data": {
      "text/plain": [
       "fibo_iteration (generic function with 1 method)"
      ]
     },
     "execution_count": 4,
     "metadata": {},
     "output_type": "execute_result"
    }
   ],
   "source": [
    "function fibo_iteration(n)\n",
    "    if n==1 || n ==2\n",
    "        return n-1\n",
    "    else\n",
    "        fibo_nums = zeros(Int64, n)\n",
    "        fibo_nums[1] = 0; fibo_nums[2] = 1\n",
    "        for i in 3:n\n",
    "            fibo_nums[i] = fibo_nums[i-1] + fibo_nums[i-2]\n",
    "        end\n",
    "        return fibo_nums[n]\n",
    "    end\n",
    "end"
   ]
  },
  {
   "cell_type": "code",
   "execution_count": 5,
   "metadata": {
    "cell_style": "split"
   },
   "outputs": [
    {
     "name": "stdout",
     "output_type": "stream",
     "text": [
      "[0, 1, 1, 2, 3, 5, 8, 13, 21, 34]"
     ]
    }
   ],
   "source": [
    "print(fibo_iteration.(1:10))"
   ]
  },
  {
   "cell_type": "markdown",
   "metadata": {},
   "source": [
    "### 1.3 Example : Recursive Calculation of the Fibonacci Sequence "
   ]
  },
  {
   "cell_type": "markdown",
   "metadata": {
    "slideshow": {
     "slide_type": "slide"
    }
   },
   "source": [
    "This can also by done recursively:"
   ]
  },
  {
   "cell_type": "code",
   "execution_count": 6,
   "metadata": {},
   "outputs": [
    {
     "data": {
      "text/plain": [
       "fibo_recursion (generic function with 1 method)"
      ]
     },
     "execution_count": 6,
     "metadata": {},
     "output_type": "execute_result"
    }
   ],
   "source": [
    "function fibo_recursion(n)\n",
    "    if n == 1 || n == 2\n",
    "        return n-1\n",
    "    else\n",
    "        return fibo_recursion(n-1) + fibo_recursion(n-2)\n",
    "    end\n",
    "end"
   ]
  },
  {
   "cell_type": "code",
   "execution_count": 7,
   "metadata": {},
   "outputs": [
    {
     "name": "stdout",
     "output_type": "stream",
     "text": [
      "[0, 1, 1, 2, 3, 5, 8, 13, 21, 34]"
     ]
    }
   ],
   "source": [
    "print(fibo_recursion.(1:10))"
   ]
  },
  {
   "cell_type": "markdown",
   "metadata": {},
   "source": [
    "### 1.4 Aside : Memorization"
   ]
  },
  {
   "cell_type": "markdown",
   "metadata": {
    "cell_style": "split",
    "slideshow": {
     "slide_type": "slide"
    }
   },
   "source": [
    "**Memorization is a technique that uses dictionary, which allows lookup, to \"remember\" the values returned by a function for previously evaluated inputs.**\n",
    "\n",
    "- *Memorization avoids repeated evaluations with the same input.*\n",
    "\n",
    "Here is another Fibonacci function that combines memorization with recursion:"
   ]
  },
  {
   "cell_type": "code",
   "execution_count": 8,
   "metadata": {
    "cell_style": "split"
   },
   "outputs": [
    {
     "data": {
      "text/plain": [
       "fibo_memo (generic function with 1 method)"
      ]
     },
     "execution_count": 8,
     "metadata": {},
     "output_type": "execute_result"
    }
   ],
   "source": [
    "function fibo_memo(n)\n",
    "    fibo_nums = Dict(1 => 0, 2 => 1)\n",
    "    \n",
    "    function dict_builder(n)\n",
    "        if n in keys(fibo_nums)\n",
    "            return fibo_nums[n]\n",
    "        else\n",
    "            result = dict_builder(n-1) + dict_builder(n-2)\n",
    "            fibo_nums[n] = result\n",
    "            return result\n",
    "        end\n",
    "    end\n",
    "    \n",
    "    dict_builder(n)\n",
    "    return fibo_nums[n]\n",
    "end"
   ]
  },
  {
   "cell_type": "code",
   "execution_count": 9,
   "metadata": {
    "cell_style": "split"
   },
   "outputs": [
    {
     "name": "stdout",
     "output_type": "stream",
     "text": [
      "[0, 1, 1, 2, 3, 5, 8, 13, 21, 34]"
     ]
    }
   ],
   "source": [
    "print(fibo_memo.(1:10))"
   ]
  },
  {
   "cell_type": "markdown",
   "metadata": {},
   "source": [
    "## 2. Sorting"
   ]
  },
  {
   "cell_type": "markdown",
   "metadata": {
    "slideshow": {
     "slide_type": "slide"
    }
   },
   "source": [
    "**Sorting is the task of placing an unordered list of real numbers in order with as few comparisons as possible.**\n",
    "\n",
    "There are lots of ways of doing this."
   ]
  },
  {
   "cell_type": "markdown",
   "metadata": {},
   "source": [
    "### 2.1 Insertion Sort - An Iterative Sort"
   ]
  },
  {
   "cell_type": "markdown",
   "metadata": {
    "slideshow": {
     "slide_type": "slide"
    }
   },
   "source": [
    "**Insertion sort: step through each item in turn, placing it in the appropriate location among the previously examined items**:\n",
    "\n",
    "![insertion sort](files/images/insertionSort_idea.jpg)"
   ]
  },
  {
   "cell_type": "markdown",
   "metadata": {
    "slideshow": {
     "slide_type": "slide"
    }
   },
   "source": [
    "![insertion sort](files/images/insertionSort_step1.jpg)"
   ]
  },
  {
   "cell_type": "markdown",
   "metadata": {
    "slideshow": {
     "slide_type": "slide"
    }
   },
   "source": [
    "![insertion sort](files/images/insertionSort_step2.jpg)"
   ]
  },
  {
   "cell_type": "markdown",
   "metadata": {
    "slideshow": {
     "slide_type": "slide"
    }
   },
   "source": [
    "![insertion sort](files/images/insertionSort_step3.jpg)"
   ]
  },
  {
   "cell_type": "markdown",
   "metadata": {
    "slideshow": {
     "slide_type": "slide"
    }
   },
   "source": [
    "![insertion sort](files/images/insertionSort_step4.jpg)"
   ]
  },
  {
   "cell_type": "markdown",
   "metadata": {},
   "source": [
    "#### 2.1.1 Computational Complexity of Insertion Sort"
   ]
  },
  {
   "cell_type": "markdown",
   "metadata": {
    "slideshow": {
     "slide_type": "slide"
    }
   },
   "source": [
    "*Consider sorting an array of length $n$.*\n",
    "- *Best case: if input array is already in order? $n$ comparisons.*\n",
    "- *Worst case: if input array is in reverse order? $\\frac{1}{2}\\,n\\,(n+1)$ comparisons.*\n",
    "\n",
    "*Computational complexity of insertion sort is therefore $\\mathcal{O}(n^2)$.*\n",
    "\n",
    "Can we do better?"
   ]
  },
  {
   "cell_type": "markdown",
   "metadata": {},
   "source": [
    "#### 2.1.2 Insertion Sort Pseudocode"
   ]
  },
  {
   "cell_type": "markdown",
   "metadata": {},
   "source": [
    "```python\n",
    "def insertion_sort(arr):\n",
    "    arr_copy = arr[:]\n",
    "    for i in range(len(arr_copy)):\n",
    "        proper_position = 0\n",
    "        for j in range(i-1, -1, -1): # j takes values from i-1 to 0 with step -1.\n",
    "            if arr_copy[i] > arr_copy[j]: # arr_copy[i] should be at the j+1.\n",
    "                proper_position = j+1\n",
    "                break\n",
    "        temp = arr_copy[i] # Store arr_copy[i] first.\n",
    "        # Move elements from proper_position to i-1 backwards by 1.\n",
    "        arr_copy[(proper_position+1): (i+1)] = arr_copy[(proper_position): i] \n",
    "        # Insert temp.\n",
    "        arr_copy[proper_position] = temp\n",
    "    return arr_copy\n",
    "```"
   ]
  },
  {
   "cell_type": "markdown",
   "metadata": {},
   "source": [
    "### 2.2 Partial Sorts"
   ]
  },
  {
   "cell_type": "markdown",
   "metadata": {
    "slideshow": {
     "slide_type": "slide"
    }
   },
   "source": [
    "**A partial q-sort of a list of numbers is an ordering in which all subsequences with the stride q are sorted.**  \n",
    "\n",
    "<img src=\"files/images/partialSort.jpg\" alt=\"Drawing\" style=\"width: 600px;\"/>  \n",
    "\n",
    "*A trivial modification of insertion sort does partial q-sorts.*"
   ]
  },
  {
   "cell_type": "markdown",
   "metadata": {},
   "source": [
    "### 2.3 Shell Sort - Improving on Insertion Sort"
   ]
  },
  {
   "cell_type": "markdown",
   "metadata": {
    "slideshow": {
     "slide_type": "slide"
    }
   },
   "source": [
    "**Shell sort: do a succession of partial q-sorts, with q taken from a pre-specified list, Q.**\n",
    "\n",
    "- *Start from a large increment and finish with increment $1$, which produces a fully sorted list.* \n",
    "- *Performance depends on $Q$ but generally faster than insertion sort.*\n",
    "\n",
    "- Example. $Q = \\left\\{2^i : i=i_{max},i_{max} −1,...,2,1,0\\right\\}$ where $i_{max}$ is the largest $i$ with $2^i < \\frac{n}{2}$. Typical case $\\sim n^\\frac{3}{2}$ (although worst case still $n^2$.).\n",
    "    > Surprising (at first) that Shell sort beats insertion sort since the last pass is a full insertion sort. Why is this? *This is because in each previous partial sort ($q > 1$), the elements will be put in an order which is closer to the best case.*\n",
    "\n",
    "- A better choice of increments is $Q = \\left\\{\\frac{1}{2}(3^i-1) : i=i_{max},i_{max} −1,...,2,1\\right\\}$. This gives typical case $\\sim n^\\frac{5}{4}$ and worst case $\\sim n^\\frac{3}{2}$.\n",
    "\n",
    "> General understanding of the computational complexity of Shell sort is an open problem."
   ]
  },
  {
   "cell_type": "markdown",
   "metadata": {
    "slideshow": {
     "slide_type": "slide"
    }
   },
   "source": [
    " ### 2.4 Merge Sort - A Recursive Sort"
   ]
  },
  {
   "cell_type": "markdown",
   "metadata": {
    "slideshow": {
     "slide_type": "slide"
    }
   },
   "source": [
    "**Mergesort interlaces two sorted arrays into a larger sorted array.**\n",
    "\n",
    "- *Divide-and-conquer sorting strategy invented by Von Neumann.*\n",
    "\n",
    "\n",
    "Given the ```interlace( )``` function, merge sort is very simple:\n",
    "\n",
    "```Python\n",
    "def mergeSort(A):\n",
    "    n = len(A)\n",
    "    if n == 1:\n",
    "        return A  # an array of length 1 is already sorted\n",
    "    else: \n",
    "        m = n/2\n",
    "        return interlace(mergeSort(A[0:m]), mergeSort(A[m:n]))\n",
    "```"
   ]
  },
  {
   "cell_type": "markdown",
   "metadata": {
    "slideshow": {
     "slide_type": "slide"
    }
   },
   "source": [
    "#### 2.4.1 The ```interlace( )``` Function"
   ]
  },
  {
   "cell_type": "markdown",
   "metadata": {},
   "source": [
    "##### 2.4.1.1 A Recursion Way to Define ```interlace( )```"
   ]
  },
  {
   "cell_type": "code",
   "execution_count": 10,
   "metadata": {},
   "outputs": [
    {
     "data": {
      "text/plain": [
       "interlace (generic function with 1 method)"
      ]
     },
     "execution_count": 10,
     "metadata": {},
     "output_type": "execute_result"
    }
   ],
   "source": [
    "function interlace(A::Array{Int64,1}, B::Array{Int64,1})\n",
    "      if length(A) == 0\n",
    "        return B\n",
    "      elseif length(B) == 0\n",
    "        return A\n",
    "      elseif A[1] < B[1]\n",
    "        return vcat([A[1]], interlace(A[2:end], B))\n",
    "      else\n",
    "        return vcat([B[1]], interlace(A, B[2:end]))\n",
    "      end    \n",
    "end"
   ]
  },
  {
   "cell_type": "code",
   "execution_count": 11,
   "metadata": {},
   "outputs": [
    {
     "name": "stdout",
     "output_type": "stream",
     "text": [
      "[1, 2, 3, 4, 5, 6, 8]"
     ]
    }
   ],
   "source": [
    "print(interlace([1,3,5],[2,4,6,8]))"
   ]
  },
  {
   "cell_type": "markdown",
   "metadata": {},
   "source": [
    "##### 2.4.1.2 A Iteration Way to Define ```interlace( )```"
   ]
  },
  {
   "cell_type": "code",
   "execution_count": 12,
   "metadata": {},
   "outputs": [
    {
     "data": {
      "text/plain": [
       "interlace (generic function with 1 method)"
      ]
     },
     "execution_count": 12,
     "metadata": {},
     "output_type": "execute_result"
    }
   ],
   "source": [
    "function interlace(A::Array{Int64, 1}, B::Array{Int64, 1})\n",
    "    interlaced = zeros(length(A)+length(B))\n",
    "    counter_A = 1\n",
    "    counter_B = 1\n",
    "    while counter_A <= length(A) || counter_B <= length(B)\n",
    "        if counter_A <= length(A) && counter_B <= length(B)\n",
    "            if A[counter_A] < B[counter_B]\n",
    "                interlaced[counter_A+counter_B-1] = A[counter_A]\n",
    "                counter_A = counter_A + 1\n",
    "            else\n",
    "                interlaced[counter_A+counter_B-1] = B[counter_B]\n",
    "                counter_B = counter_B + 1\n",
    "            end\n",
    "        elseif counter_A > length(A) && counter_B <= length(B)\n",
    "            interlaced[counter_A+counter_B-1:end] = B[counter_B:end]\n",
    "            break\n",
    "        else\n",
    "            interlaced[counter_A+counter_B-1:end] = A[counter_A:end]\n",
    "            break\n",
    "        end\n",
    "    end\n",
    "    return Int.(interlaced)\n",
    "end"
   ]
  },
  {
   "cell_type": "code",
   "execution_count": 13,
   "metadata": {},
   "outputs": [
    {
     "name": "stdout",
     "output_type": "stream",
     "text": [
      "[1, 2, 3, 4, 5, 6, 8]"
     ]
    }
   ],
   "source": [
    "print(interlace([1,3,5],[2,4,6,8]))"
   ]
  },
  {
   "cell_type": "markdown",
   "metadata": {},
   "source": [
    "#### 2.4.2 Complexity of Merge Sort"
   ]
  },
  {
   "cell_type": "markdown",
   "metadata": {
    "cell_style": "split",
    "slideshow": {
     "slide_type": "slide"
    }
   },
   "source": [
    "*The ```interlace()``` function can be shown to be $\\mathcal{O}(n)$ where $n$ is the size of the output array.* \n",
    "\n",
    "*At level $k$, there are $2^{k-1}$ ```interlace()``` calls of size $\\frac{n}{2^{k-1}}$.Therefore, each level is $\\mathcal{O}(n)$.*\n",
    "\n",
    "*Number of levels, $L$, satisfies $n = 2^L$ so $L = \\log_2n$.*"
   ]
  },
  {
   "cell_type": "markdown",
   "metadata": {
    "cell_style": "split"
   },
   "source": [
    "![Float32](files/images/recursionTree.jpg)"
   ]
  },
  {
   "cell_type": "markdown",
   "metadata": {
    "cell_style": "split"
   },
   "source": [
    "*Heuristically, expect*\n",
    "\n",
    "$$ F(n) = \\mathcal{O}(n\\,\\log_2n). $$"
   ]
  },
  {
   "cell_type": "markdown",
   "metadata": {
    "cell_style": "split",
    "slideshow": {
     "slide_type": "slide"
    }
   },
   "source": [
    "We can also write a recursion equation for $F(n)$ based on the function definition:\n",
    "\n",
    "$$ F(n) = 2\\,F(\\frac{n}{2}) + n^1 $$\n",
    "\n",
    "with $F(1) = 1$.\n",
    "\n",
    "This is the \"Master Theorem\" case 2 so $\\mathcal{O}(n\\log_2n)$."
   ]
  },
  {
   "cell_type": "markdown",
   "metadata": {
    "cell_style": "split"
   },
   "source": [
    "![Float32](files/images/sorting.jpg)"
   ]
  }
 ],
 "metadata": {
  "kernelspec": {
   "display_name": "JuliaPro_v1.5.2-1 1.5.2",
   "language": "julia",
   "name": "juliapro_v1.5.2-1-1.5"
  },
  "language_info": {
   "file_extension": ".jl",
   "mimetype": "application/julia",
   "name": "julia",
   "version": "1.5.2"
  }
 },
 "nbformat": 4,
 "nbformat_minor": 2
}
